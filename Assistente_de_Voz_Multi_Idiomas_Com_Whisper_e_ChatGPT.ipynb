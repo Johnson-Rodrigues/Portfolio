{
  "nbformat": 4,
  "nbformat_minor": 0,
  "metadata": {
    "colab": {
      "provenance": [],
      "machine_shape": "hm",
      "collapsed_sections": [
        "xVJe979lA_8D"
      ],
      "gpuClass": "premium"
    },
    "kernelspec": {
      "name": "python3",
      "display_name": "Python 3"
    },
    "language_info": {
      "name": "python"
    },
    "gpuClass": "premium"
  },
  "cells": [
    {
      "cell_type": "code",
      "source": [
        "language = 'pt'"
      ],
      "metadata": {
        "id": "nvvYFFNaf12H"
      },
      "execution_count": null,
      "outputs": []
    },
    {
      "cell_type": "markdown",
      "source": [
        "# 1. Gravação de Áudio Com Python e JavaScript"
      ],
      "metadata": {
        "id": "xVJe979lA_8D"
      }
    },
    {
      "cell_type": "code",
      "execution_count": null,
      "metadata": {
        "id": "ZQj2WnrRAoXR"
      },
      "outputs": [],
      "source": [
        "# Referência: https://gist.github.com/korakot/c21c3476c024ad6d56d5f48b0bca92be\n",
        "\n",
        "from IPython.display import Audio, display, Javascript\n",
        "from google.colab import output\n",
        "from base64 import b64decode\n",
        "\n",
        "# Código JavaScript para gravar áudio do usuário usando a \"MediaStream Recording API\"\n",
        "RECORD = \"\"\"\n",
        "const sleep  = time => new Promise(resolve => setTimeout(resolve, time))\n",
        "const b2text = blob => new Promise(resolve => {\n",
        "  const reader = new FileReader()\n",
        "  reader.onloadend = e => resolve(e.srcElement.result)\n",
        "  reader.readAsDataURL(blob)\n",
        "})\n",
        "var record = time => new Promise(async resolve => {\n",
        "  stream = await navigator.mediaDevices.getUserMedia({ audio: true })\n",
        "  recorder = new MediaRecorder(stream)\n",
        "  chunks = []\n",
        "  recorder.ondataavailable = e => chunks.push(e.data)\n",
        "  recorder.start()\n",
        "  await sleep(time)\n",
        "  recorder.onstop = async ()=>{\n",
        "    blob = new Blob(chunks)\n",
        "    text = await b2text(blob)\n",
        "    resolve(text)\n",
        "  }\n",
        "  recorder.stop()\n",
        "})\n",
        "\"\"\"\n",
        "\n",
        "def record(sec=5):\n",
        "  # Executa o código JavaScript para gravar o áudio\n",
        "  display(Javascript(RECORD))\n",
        "  # Recebe o áudio gravado como resultado do JavaScript\n",
        "  js_result = output.eval_js('record(%s)' % (sec * 1000))\n",
        "   # Decodifica o áudio em base64\n",
        "  audio = b64decode(js_result.split(',')[1])\n",
        "  # Salva o áudio em um arquivo\n",
        "  file_name = 'request_audio.wav'\n",
        "  with open(file_name, 'wb') as f:\n",
        "    f.write(audio)\n",
        "  # Retorna o caminho do arquivo de áudio (pasta padrão do Google Colab)\n",
        "  return f'/content/{file_name}'\n",
        "\n",
        "# Grava o áudio do usuário por um tempo determinado (padrão 5 segundos)\n",
        "print('Ouvindo...\\n')\n",
        "record_file = record()\n",
        "\n",
        "# Exibe o áudio gravado\n",
        "display(Audio(record_file, autoplay=False))"
      ]
    },
    {
      "cell_type": "markdown",
      "source": [
        "# 2. Reconhecimento de Fala com Whisper (OpenAI)"
      ],
      "metadata": {
        "id": "YVtxLeSEGEqE"
      }
    },
    {
      "cell_type": "code",
      "source": [
        "!pip install git+https://github.com/openai/whisper.git -q"
      ],
      "metadata": {
        "id": "B0L7dwnuGMSj",
        "collapsed": true
      },
      "execution_count": null,
      "outputs": []
    },
    {
      "cell_type": "code",
      "source": [
        "import whisper\n",
        "\n",
        "# Selecione o modelo do Whisper que melhor atenda às suas necessidades:\n",
        "# https://github.com/openai/whisper#available-models-and-languages\n",
        "model = whisper.load_model(\"small\")\n",
        "\n",
        "# Transcreve o audio gravado anteriormente.\n",
        "result = model.transcribe(record_file, fp16=False, language=language)\n",
        "transcription = result[\"text\"]\n",
        "print(transcription)"
      ],
      "metadata": {
        "id": "H18caD49dzQ_"
      },
      "execution_count": null,
      "outputs": []
    },
    {
      "cell_type": "markdown",
      "source": [
        "# 3. Integração com a API do ChatGPT"
      ],
      "metadata": {
        "id": "TalupqHJRxir"
      }
    },
    {
      "cell_type": "code",
      "source": [
        "!pip install openai"
      ],
      "metadata": {
        "id": "y_GodW9JR3R-",
        "collapsed": true
      },
      "execution_count": null,
      "outputs": []
    },
    {
      "cell_type": "code",
      "source": [
        "import os\n",
        "\n",
        "# Documentação Oficial da API OpenAI: https://platform.openai.com/docs/api-reference/introduction\n",
        "# Informações sobre o Período Gratuito: https://help.openai.com/en/articles/4936830\n",
        "\n",
        "# Para gerar uma API Key:\n",
        "# 1. Crie uma conta na OpenAI\n",
        "# 2. Acesse a seção \"API Keys\"\n",
        "# 3. Clique em \"Create API Key\"\n",
        "# Link direto: https://platform.openai.com/account/api-keys\n",
        "\n",
        "# Substitua o texto \"TODO\" por sua API Key da OpenAI, ela será salva como uma variável de ambiente.\n",
        "os.environ['OPENAI_API_KEY'] = 'TODO'"
      ],
      "metadata": {
        "id": "YfQYt9oUhL8a"
      },
      "execution_count": null,
      "outputs": []
    },
    {
      "cell_type": "code",
      "source": [
        "import openai\n",
        "\n",
        "# Configura a chave de API da OpenAI usando a variável de ambiente 'OPENAI_API_KEY'\n",
        "openai.api_key = os.environ.get('OPENAI_API_KEY')\n",
        "\n",
        "# Envia uma requisição à API do ChatCompletion usando o modelo GPT-3.5 Turbo\n",
        "# model = \"gpt-3.5-turbo\"\n",
        "# Lembrando que, a variável 'transcription' contém a transcrição do nosso áudio.\n",
        "response = openai.ChatCompletion.create(\n",
        "    model=\"gpt-4\",\n",
        "    messages=[ { \"role\": \"user\", \"content\": transcription } ]\n",
        ")\n",
        "\n",
        "# Obtém a resposta gerada pelo ChatGPT\n",
        "chatgpt_response = response.choices[0].message.content\n",
        "print(chatgpt_response)"
      ],
      "metadata": {
        "id": "7wt7K280SSNp"
      },
      "execution_count": null,
      "outputs": []
    },
    {
      "cell_type": "markdown",
      "source": [
        "# 4. Sintetizando a Resposta do ChatGPT Como Voz (gTTS)"
      ],
      "metadata": {
        "id": "w3mRPF-Ka-et"
      }
    },
    {
      "cell_type": "code",
      "source": [
        "!pip install gTTS"
      ],
      "metadata": {
        "id": "ztyl4KSGbP5E",
        "collapsed": true
      },
      "execution_count": null,
      "outputs": []
    },
    {
      "cell_type": "code",
      "source": [
        "from gtts import  gTTS\n",
        "\n",
        "# Cria um objeto gTTS com a resposta gerada pelo ChatGPT e a língua que será sintetizada em voz (variável \"language\").\n",
        "gtts_object = gTTS(text=chatgpt_response, lang=language, slow=False)\n",
        "\n",
        "# Salva o áudio da resposta no arquivo especificado (pasta padrão do Google Colab)\n",
        "response_audio = \"/content/response_audio.wav\"\n",
        "gtts_object.save(response_audio)\n",
        "\n",
        "# Reproduz o áudio da resposta salvo no arquivo\n",
        "display(Audio(response_audio, autoplay=True))"
      ],
      "metadata": {
        "id": "bAPhZQChbjfb"
      },
      "execution_count": null,
      "outputs": []
    }
  ]
}