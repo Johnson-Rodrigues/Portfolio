{
  "nbformat": 4,
  "nbformat_minor": 0,
  "metadata": {
    "kernelspec": {
      "display_name": "Python 3",
      "language": "python",
      "name": "python3"
    },
    "language_info": {
      "codemirror_mode": {
        "name": "ipython",
        "version": 3
      },
      "file_extension": ".py",
      "mimetype": "text/x-python",
      "name": "python",
      "nbconvert_exporter": "python",
      "pygments_lexer": "ipython3",
      "version": "3.8.5"
    },
    "colab": {
      "provenance": []
    }
  },
  "cells": [
    {
      "cell_type": "markdown",
      "metadata": {
        "id": "maBJDQSVunsO"
      },
      "source": [
        "# <font color='blue'>Predição de Preço</font>\n"
      ]
    },
    {
      "cell_type": "code",
      "metadata": {
        "colab": {
          "base_uri": "https://localhost:8080/"
        },
        "id": "MTVmWAqLunst",
        "outputId": "f476f49d-fa60-4a87-c79a-7757ac297378"
      },
      "source": [
        "# Version of Python\n",
        "from platform import python_version\n",
        "print('Version of Python used on this Notebook:', python_version())"
      ],
      "execution_count": null,
      "outputs": [
        {
          "output_type": "stream",
          "text": [
            "Version of Python used on this Notebook: 3.6.9\n"
          ],
          "name": "stdout"
        }
      ]
    },
    {
      "cell_type": "markdown",
      "metadata": {
        "id": "1hYeSeLGuntg"
      },
      "source": [
        "## Objetivo\n",
        "Prever o preço da estadia de imóveis feature 'Price'."
      ]
    },
    {
      "cell_type": "markdown",
      "metadata": {
        "id": "1Dv8GpeSuntl"
      },
      "source": [
        "## Importando módulos e bibliotecas\n",
        "Dataset fornecido pela Airbnb"
      ]
    },
    {
      "cell_type": "code",
      "metadata": {
        "id": "nFmG146Wuntn"
      },
      "source": [
        "# Importing modules\n",
        "import pandas as pd\n",
        "import matplotlib as mat\n",
        "import matplotlib.pyplot as plt\n",
        "import seaborn as sns\n",
        "import warnings\n",
        "warnings.filterwarnings(\"ignore\", category=FutureWarning)\n",
        "import colorsys\n",
        "plt.style.use('seaborn-talk')\n",
        "import numpy as np\n",
        "%matplotlib inline"
      ],
      "execution_count": null,
      "outputs": []
    },
    {
      "cell_type": "code",
      "metadata": {
        "colab": {
          "base_uri": "https://localhost:8080/",
          "height": 35
        },
        "id": "A8cEQT3RunuP",
        "outputId": "68da731d-882c-45d7-b4c8-e1b3b153e8cc"
      },
      "source": [
        "pd.__version__"
      ],
      "execution_count": null,
      "outputs": [
        {
          "output_type": "execute_result",
          "data": {
            "application/vnd.google.colaboratory.intrinsic+json": {
              "type": "string"
            },
            "text/plain": [
              "'1.1.5'"
            ]
          },
          "metadata": {
            "tags": []
          },
          "execution_count": 6
        }
      ]
    },
    {
      "cell_type": "code",
      "metadata": {
        "colab": {
          "base_uri": "https://localhost:8080/",
          "height": 35
        },
        "id": "W1bg7cwPunuR",
        "outputId": "41f10c61-42bc-44d7-97a2-f33cdb0c07cf"
      },
      "source": [
        "mat.__version__"
      ],
      "execution_count": null,
      "outputs": [
        {
          "output_type": "execute_result",
          "data": {
            "application/vnd.google.colaboratory.intrinsic+json": {
              "type": "string"
            },
            "text/plain": [
              "'3.2.2'"
            ]
          },
          "metadata": {
            "tags": []
          },
          "execution_count": 7
        }
      ]
    },
    {
      "cell_type": "code",
      "metadata": {
        "id": "uuIGAl-ownJw"
      },
      "source": [
        "# My machine is a laptop then I Use Google Colab power, that requires a github repository to read data correctly"
      ],
      "execution_count": null,
      "outputs": []
    },
    {
      "cell_type": "code",
      "metadata": {
        "id": "ahAz5QtW3Hiu"
      },
      "source": [
        "# picking dataset from github and importing to Google Colab"
      ],
      "execution_count": null,
      "outputs": []
    },
    {
      "cell_type": "code",
      "metadata": {
        "colab": {
          "base_uri": "https://localhost:8080/"
        },
        "id": "aHTszQkYnIc9",
        "outputId": "5d63e157-6787-453e-e47e-87a02ba5664d"
      },
      "source": [
        "! git clone https://github.com/Johnson-Rodrigues/ifood.git"
      ],
      "execution_count": null,
      "outputs": [
        {
          "output_type": "stream",
          "text": [
            "Cloning into 'ifood'...\n",
            "remote: Enumerating objects: 6, done.\u001b[K\n",
            "remote: Counting objects: 100% (6/6), done.\u001b[K\n",
            "remote: Compressing objects: 100% (5/5), done.\u001b[K\n",
            "remote: Total 6 (delta 0), reused 0 (delta 0), pack-reused 0\u001b[K\n",
            "Unpacking objects: 100% (6/6), done.\n"
          ],
          "name": "stdout"
        }
      ]
    },
    {
      "cell_type": "code",
      "metadata": {
        "id": "EMFW-pjLunuT"
      },
      "source": [
        "# Uploading dataset\n",
        "df = pd.read_csv(\"ifood/ml_project1_data.csv\")"
      ],
      "execution_count": null,
      "outputs": []
    },
    {
      "cell_type": "code",
      "metadata": {
        "colab": {
          "base_uri": "https://localhost:8080/"
        },
        "id": "BfNWSthPunuX",
        "outputId": "0812abe9-25c2-4353-de68-361c608d6a9b"
      },
      "source": [
        "# Checking data shape\n",
        "df.shape"
      ],
      "execution_count": null,
      "outputs": [
        {
          "output_type": "execute_result",
          "data": {
            "text/plain": [
              "(2240, 29)"
            ]
          },
          "metadata": {
            "tags": []
          },
          "execution_count": 10
        }
      ]
    },
    {
      "cell_type": "code",
      "metadata": {
        "colab": {
          "base_uri": "https://localhost:8080/",
          "height": 215
        },
        "id": "on84OCpZunuZ",
        "outputId": "04e20f8e-d555-4456-e482-c499e9ac09d9"
      },
      "source": [
        "# Verifying dataset head\n",
        "df.head(5)"
      ],
      "execution_count": null,
      "outputs": [
        {
          "output_type": "execute_result",
          "data": {
            "text/html": [
              "<div>\n",
              "<style scoped>\n",
              "    .dataframe tbody tr th:only-of-type {\n",
              "        vertical-align: middle;\n",
              "    }\n",
              "\n",
              "    .dataframe tbody tr th {\n",
              "        vertical-align: top;\n",
              "    }\n",
              "\n",
              "    .dataframe thead th {\n",
              "        text-align: right;\n",
              "    }\n",
              "</style>\n",
              "<table border=\"1\" class=\"dataframe\">\n",
              "  <thead>\n",
              "    <tr style=\"text-align: right;\">\n",
              "      <th></th>\n",
              "      <th>ID</th>\n",
              "      <th>Year_Birth</th>\n",
              "      <th>Education</th>\n",
              "      <th>Marital_Status</th>\n",
              "      <th>Income</th>\n",
              "      <th>Kidhome</th>\n",
              "      <th>Teenhome</th>\n",
              "      <th>Dt_Customer</th>\n",
              "      <th>Recency</th>\n",
              "      <th>MntWines</th>\n",
              "      <th>MntFruits</th>\n",
              "      <th>MntMeatProducts</th>\n",
              "      <th>MntFishProducts</th>\n",
              "      <th>MntSweetProducts</th>\n",
              "      <th>MntGoldProds</th>\n",
              "      <th>NumDealsPurchases</th>\n",
              "      <th>NumWebPurchases</th>\n",
              "      <th>NumCatalogPurchases</th>\n",
              "      <th>NumStorePurchases</th>\n",
              "      <th>NumWebVisitsMonth</th>\n",
              "      <th>AcceptedCmp3</th>\n",
              "      <th>AcceptedCmp4</th>\n",
              "      <th>AcceptedCmp5</th>\n",
              "      <th>AcceptedCmp1</th>\n",
              "      <th>AcceptedCmp2</th>\n",
              "      <th>Complain</th>\n",
              "      <th>Z_CostContact</th>\n",
              "      <th>Z_Revenue</th>\n",
              "      <th>Response</th>\n",
              "    </tr>\n",
              "  </thead>\n",
              "  <tbody>\n",
              "    <tr>\n",
              "      <th>0</th>\n",
              "      <td>5524</td>\n",
              "      <td>1957</td>\n",
              "      <td>Graduation</td>\n",
              "      <td>Single</td>\n",
              "      <td>58138.0</td>\n",
              "      <td>0</td>\n",
              "      <td>0</td>\n",
              "      <td>2012-09-04</td>\n",
              "      <td>58</td>\n",
              "      <td>635</td>\n",
              "      <td>88</td>\n",
              "      <td>546</td>\n",
              "      <td>172</td>\n",
              "      <td>88</td>\n",
              "      <td>88</td>\n",
              "      <td>3</td>\n",
              "      <td>8</td>\n",
              "      <td>10</td>\n",
              "      <td>4</td>\n",
              "      <td>7</td>\n",
              "      <td>0</td>\n",
              "      <td>0</td>\n",
              "      <td>0</td>\n",
              "      <td>0</td>\n",
              "      <td>0</td>\n",
              "      <td>0</td>\n",
              "      <td>3</td>\n",
              "      <td>11</td>\n",
              "      <td>1</td>\n",
              "    </tr>\n",
              "    <tr>\n",
              "      <th>1</th>\n",
              "      <td>2174</td>\n",
              "      <td>1954</td>\n",
              "      <td>Graduation</td>\n",
              "      <td>Single</td>\n",
              "      <td>46344.0</td>\n",
              "      <td>1</td>\n",
              "      <td>1</td>\n",
              "      <td>2014-03-08</td>\n",
              "      <td>38</td>\n",
              "      <td>11</td>\n",
              "      <td>1</td>\n",
              "      <td>6</td>\n",
              "      <td>2</td>\n",
              "      <td>1</td>\n",
              "      <td>6</td>\n",
              "      <td>2</td>\n",
              "      <td>1</td>\n",
              "      <td>1</td>\n",
              "      <td>2</td>\n",
              "      <td>5</td>\n",
              "      <td>0</td>\n",
              "      <td>0</td>\n",
              "      <td>0</td>\n",
              "      <td>0</td>\n",
              "      <td>0</td>\n",
              "      <td>0</td>\n",
              "      <td>3</td>\n",
              "      <td>11</td>\n",
              "      <td>0</td>\n",
              "    </tr>\n",
              "    <tr>\n",
              "      <th>2</th>\n",
              "      <td>4141</td>\n",
              "      <td>1965</td>\n",
              "      <td>Graduation</td>\n",
              "      <td>Together</td>\n",
              "      <td>71613.0</td>\n",
              "      <td>0</td>\n",
              "      <td>0</td>\n",
              "      <td>2013-08-21</td>\n",
              "      <td>26</td>\n",
              "      <td>426</td>\n",
              "      <td>49</td>\n",
              "      <td>127</td>\n",
              "      <td>111</td>\n",
              "      <td>21</td>\n",
              "      <td>42</td>\n",
              "      <td>1</td>\n",
              "      <td>8</td>\n",
              "      <td>2</td>\n",
              "      <td>10</td>\n",
              "      <td>4</td>\n",
              "      <td>0</td>\n",
              "      <td>0</td>\n",
              "      <td>0</td>\n",
              "      <td>0</td>\n",
              "      <td>0</td>\n",
              "      <td>0</td>\n",
              "      <td>3</td>\n",
              "      <td>11</td>\n",
              "      <td>0</td>\n",
              "    </tr>\n",
              "    <tr>\n",
              "      <th>3</th>\n",
              "      <td>6182</td>\n",
              "      <td>1984</td>\n",
              "      <td>Graduation</td>\n",
              "      <td>Together</td>\n",
              "      <td>26646.0</td>\n",
              "      <td>1</td>\n",
              "      <td>0</td>\n",
              "      <td>2014-02-10</td>\n",
              "      <td>26</td>\n",
              "      <td>11</td>\n",
              "      <td>4</td>\n",
              "      <td>20</td>\n",
              "      <td>10</td>\n",
              "      <td>3</td>\n",
              "      <td>5</td>\n",
              "      <td>2</td>\n",
              "      <td>2</td>\n",
              "      <td>0</td>\n",
              "      <td>4</td>\n",
              "      <td>6</td>\n",
              "      <td>0</td>\n",
              "      <td>0</td>\n",
              "      <td>0</td>\n",
              "      <td>0</td>\n",
              "      <td>0</td>\n",
              "      <td>0</td>\n",
              "      <td>3</td>\n",
              "      <td>11</td>\n",
              "      <td>0</td>\n",
              "    </tr>\n",
              "    <tr>\n",
              "      <th>4</th>\n",
              "      <td>5324</td>\n",
              "      <td>1981</td>\n",
              "      <td>PhD</td>\n",
              "      <td>Married</td>\n",
              "      <td>58293.0</td>\n",
              "      <td>1</td>\n",
              "      <td>0</td>\n",
              "      <td>2014-01-19</td>\n",
              "      <td>94</td>\n",
              "      <td>173</td>\n",
              "      <td>43</td>\n",
              "      <td>118</td>\n",
              "      <td>46</td>\n",
              "      <td>27</td>\n",
              "      <td>15</td>\n",
              "      <td>5</td>\n",
              "      <td>5</td>\n",
              "      <td>3</td>\n",
              "      <td>6</td>\n",
              "      <td>5</td>\n",
              "      <td>0</td>\n",
              "      <td>0</td>\n",
              "      <td>0</td>\n",
              "      <td>0</td>\n",
              "      <td>0</td>\n",
              "      <td>0</td>\n",
              "      <td>3</td>\n",
              "      <td>11</td>\n",
              "      <td>0</td>\n",
              "    </tr>\n",
              "  </tbody>\n",
              "</table>\n",
              "</div>"
            ],
            "text/plain": [
              "     ID  Year_Birth   Education  ... Z_CostContact  Z_Revenue  Response\n",
              "0  5524        1957  Graduation  ...             3         11         1\n",
              "1  2174        1954  Graduation  ...             3         11         0\n",
              "2  4141        1965  Graduation  ...             3         11         0\n",
              "3  6182        1984  Graduation  ...             3         11         0\n",
              "4  5324        1981         PhD  ...             3         11         0\n",
              "\n",
              "[5 rows x 29 columns]"
            ]
          },
          "metadata": {
            "tags": []
          },
          "execution_count": 11
        }
      ]
    },
    {
      "cell_type": "code",
      "metadata": {
        "colab": {
          "base_uri": "https://localhost:8080/",
          "height": 215
        },
        "id": "GykoOz9sunua",
        "outputId": "3e8823f2-2274-458d-a796-3a45f6288329"
      },
      "source": [
        "# Checking last lines\n",
        "df.tail(5)"
      ],
      "execution_count": null,
      "outputs": [
        {
          "output_type": "execute_result",
          "data": {
            "text/html": [
              "<div>\n",
              "<style scoped>\n",
              "    .dataframe tbody tr th:only-of-type {\n",
              "        vertical-align: middle;\n",
              "    }\n",
              "\n",
              "    .dataframe tbody tr th {\n",
              "        vertical-align: top;\n",
              "    }\n",
              "\n",
              "    .dataframe thead th {\n",
              "        text-align: right;\n",
              "    }\n",
              "</style>\n",
              "<table border=\"1\" class=\"dataframe\">\n",
              "  <thead>\n",
              "    <tr style=\"text-align: right;\">\n",
              "      <th></th>\n",
              "      <th>ID</th>\n",
              "      <th>Year_Birth</th>\n",
              "      <th>Education</th>\n",
              "      <th>Marital_Status</th>\n",
              "      <th>Income</th>\n",
              "      <th>Kidhome</th>\n",
              "      <th>Teenhome</th>\n",
              "      <th>Dt_Customer</th>\n",
              "      <th>Recency</th>\n",
              "      <th>MntWines</th>\n",
              "      <th>MntFruits</th>\n",
              "      <th>MntMeatProducts</th>\n",
              "      <th>MntFishProducts</th>\n",
              "      <th>MntSweetProducts</th>\n",
              "      <th>MntGoldProds</th>\n",
              "      <th>NumDealsPurchases</th>\n",
              "      <th>NumWebPurchases</th>\n",
              "      <th>NumCatalogPurchases</th>\n",
              "      <th>NumStorePurchases</th>\n",
              "      <th>NumWebVisitsMonth</th>\n",
              "      <th>AcceptedCmp3</th>\n",
              "      <th>AcceptedCmp4</th>\n",
              "      <th>AcceptedCmp5</th>\n",
              "      <th>AcceptedCmp1</th>\n",
              "      <th>AcceptedCmp2</th>\n",
              "      <th>Complain</th>\n",
              "      <th>Z_CostContact</th>\n",
              "      <th>Z_Revenue</th>\n",
              "      <th>Response</th>\n",
              "    </tr>\n",
              "  </thead>\n",
              "  <tbody>\n",
              "    <tr>\n",
              "      <th>2235</th>\n",
              "      <td>10870</td>\n",
              "      <td>1967</td>\n",
              "      <td>Graduation</td>\n",
              "      <td>Married</td>\n",
              "      <td>61223.0</td>\n",
              "      <td>0</td>\n",
              "      <td>1</td>\n",
              "      <td>2013-06-13</td>\n",
              "      <td>46</td>\n",
              "      <td>709</td>\n",
              "      <td>43</td>\n",
              "      <td>182</td>\n",
              "      <td>42</td>\n",
              "      <td>118</td>\n",
              "      <td>247</td>\n",
              "      <td>2</td>\n",
              "      <td>9</td>\n",
              "      <td>3</td>\n",
              "      <td>4</td>\n",
              "      <td>5</td>\n",
              "      <td>0</td>\n",
              "      <td>0</td>\n",
              "      <td>0</td>\n",
              "      <td>0</td>\n",
              "      <td>0</td>\n",
              "      <td>0</td>\n",
              "      <td>3</td>\n",
              "      <td>11</td>\n",
              "      <td>0</td>\n",
              "    </tr>\n",
              "    <tr>\n",
              "      <th>2236</th>\n",
              "      <td>4001</td>\n",
              "      <td>1946</td>\n",
              "      <td>PhD</td>\n",
              "      <td>Together</td>\n",
              "      <td>64014.0</td>\n",
              "      <td>2</td>\n",
              "      <td>1</td>\n",
              "      <td>2014-06-10</td>\n",
              "      <td>56</td>\n",
              "      <td>406</td>\n",
              "      <td>0</td>\n",
              "      <td>30</td>\n",
              "      <td>0</td>\n",
              "      <td>0</td>\n",
              "      <td>8</td>\n",
              "      <td>7</td>\n",
              "      <td>8</td>\n",
              "      <td>2</td>\n",
              "      <td>5</td>\n",
              "      <td>7</td>\n",
              "      <td>0</td>\n",
              "      <td>0</td>\n",
              "      <td>0</td>\n",
              "      <td>1</td>\n",
              "      <td>0</td>\n",
              "      <td>0</td>\n",
              "      <td>3</td>\n",
              "      <td>11</td>\n",
              "      <td>0</td>\n",
              "    </tr>\n",
              "    <tr>\n",
              "      <th>2237</th>\n",
              "      <td>7270</td>\n",
              "      <td>1981</td>\n",
              "      <td>Graduation</td>\n",
              "      <td>Divorced</td>\n",
              "      <td>56981.0</td>\n",
              "      <td>0</td>\n",
              "      <td>0</td>\n",
              "      <td>2014-01-25</td>\n",
              "      <td>91</td>\n",
              "      <td>908</td>\n",
              "      <td>48</td>\n",
              "      <td>217</td>\n",
              "      <td>32</td>\n",
              "      <td>12</td>\n",
              "      <td>24</td>\n",
              "      <td>1</td>\n",
              "      <td>2</td>\n",
              "      <td>3</td>\n",
              "      <td>13</td>\n",
              "      <td>6</td>\n",
              "      <td>0</td>\n",
              "      <td>1</td>\n",
              "      <td>0</td>\n",
              "      <td>0</td>\n",
              "      <td>0</td>\n",
              "      <td>0</td>\n",
              "      <td>3</td>\n",
              "      <td>11</td>\n",
              "      <td>0</td>\n",
              "    </tr>\n",
              "    <tr>\n",
              "      <th>2238</th>\n",
              "      <td>8235</td>\n",
              "      <td>1956</td>\n",
              "      <td>Master</td>\n",
              "      <td>Together</td>\n",
              "      <td>69245.0</td>\n",
              "      <td>0</td>\n",
              "      <td>1</td>\n",
              "      <td>2014-01-24</td>\n",
              "      <td>8</td>\n",
              "      <td>428</td>\n",
              "      <td>30</td>\n",
              "      <td>214</td>\n",
              "      <td>80</td>\n",
              "      <td>30</td>\n",
              "      <td>61</td>\n",
              "      <td>2</td>\n",
              "      <td>6</td>\n",
              "      <td>5</td>\n",
              "      <td>10</td>\n",
              "      <td>3</td>\n",
              "      <td>0</td>\n",
              "      <td>0</td>\n",
              "      <td>0</td>\n",
              "      <td>0</td>\n",
              "      <td>0</td>\n",
              "      <td>0</td>\n",
              "      <td>3</td>\n",
              "      <td>11</td>\n",
              "      <td>0</td>\n",
              "    </tr>\n",
              "    <tr>\n",
              "      <th>2239</th>\n",
              "      <td>9405</td>\n",
              "      <td>1954</td>\n",
              "      <td>PhD</td>\n",
              "      <td>Married</td>\n",
              "      <td>52869.0</td>\n",
              "      <td>1</td>\n",
              "      <td>1</td>\n",
              "      <td>2012-10-15</td>\n",
              "      <td>40</td>\n",
              "      <td>84</td>\n",
              "      <td>3</td>\n",
              "      <td>61</td>\n",
              "      <td>2</td>\n",
              "      <td>1</td>\n",
              "      <td>21</td>\n",
              "      <td>3</td>\n",
              "      <td>3</td>\n",
              "      <td>1</td>\n",
              "      <td>4</td>\n",
              "      <td>7</td>\n",
              "      <td>0</td>\n",
              "      <td>0</td>\n",
              "      <td>0</td>\n",
              "      <td>0</td>\n",
              "      <td>0</td>\n",
              "      <td>0</td>\n",
              "      <td>3</td>\n",
              "      <td>11</td>\n",
              "      <td>1</td>\n",
              "    </tr>\n",
              "  </tbody>\n",
              "</table>\n",
              "</div>"
            ],
            "text/plain": [
              "         ID  Year_Birth   Education  ... Z_CostContact  Z_Revenue  Response\n",
              "2235  10870        1967  Graduation  ...             3         11         0\n",
              "2236   4001        1946         PhD  ...             3         11         0\n",
              "2237   7270        1981  Graduation  ...             3         11         0\n",
              "2238   8235        1956      Master  ...             3         11         0\n",
              "2239   9405        1954         PhD  ...             3         11         1\n",
              "\n",
              "[5 rows x 29 columns]"
            ]
          },
          "metadata": {
            "tags": []
          },
          "execution_count": 12
        }
      ]
    },
    {
      "cell_type": "code",
      "metadata": {
        "id": "MCo7kZmHPiKD"
      },
      "source": [
        "# Creating column Age because age is more significant then a Year_Birth."
      ],
      "execution_count": null,
      "outputs": []
    },
    {
      "cell_type": "code",
      "metadata": {
        "id": "spjozctxagAb"
      },
      "source": [
        "from datetime import datetime"
      ],
      "execution_count": null,
      "outputs": []
    },
    {
      "cell_type": "code",
      "metadata": {
        "colab": {
          "base_uri": "https://localhost:8080/"
        },
        "id": "-KudanV9CErz",
        "outputId": "e8e70bfd-95e2-4325-b492-2331f6c674e5"
      },
      "source": [
        "year_c = datetime.now()\n",
        "\n",
        "# Converting Current year to string in the desired format (YYYY) using strftime\n",
        "# and then to int.\n",
        "year_c = int(year_c.strftime('%Y'))\n",
        "print (year_c)"
      ],
      "execution_count": null,
      "outputs": [
        {
          "output_type": "stream",
          "text": [
            "2021\n"
          ],
          "name": "stdout"
        }
      ]
    },
    {
      "cell_type": "code",
      "metadata": {
        "id": "Ixq-G2_EZkxC"
      },
      "source": [
        "df['Age'] = year_c - pd.to_numeric(df['Year_Birth'])"
      ],
      "execution_count": null,
      "outputs": []
    },
    {
      "cell_type": "code",
      "metadata": {
        "colab": {
          "base_uri": "https://localhost:8080/"
        },
        "id": "Te-hZ4gLGWEH",
        "outputId": "0176f99e-d3c5-493a-c0d5-0f4bcd9dbef8"
      },
      "source": [
        "print (df)"
      ],
      "execution_count": null,
      "outputs": [
        {
          "output_type": "stream",
          "text": [
            "         ID  Year_Birth   Education  ... Z_Revenue  Response  Age\n",
            "0      5524        1957  Graduation  ...        11         1   64\n",
            "1      2174        1954  Graduation  ...        11         0   67\n",
            "2      4141        1965  Graduation  ...        11         0   56\n",
            "3      6182        1984  Graduation  ...        11         0   37\n",
            "4      5324        1981         PhD  ...        11         0   40\n",
            "...     ...         ...         ...  ...       ...       ...  ...\n",
            "2235  10870        1967  Graduation  ...        11         0   54\n",
            "2236   4001        1946         PhD  ...        11         0   75\n",
            "2237   7270        1981  Graduation  ...        11         0   40\n",
            "2238   8235        1956      Master  ...        11         0   65\n",
            "2239   9405        1954         PhD  ...        11         1   67\n",
            "\n",
            "[2240 rows x 30 columns]\n"
          ],
          "name": "stdout"
        }
      ]
    },
    {
      "cell_type": "code",
      "metadata": {
        "id": "cnXETJGWP9yg"
      },
      "source": [
        "# Creating column Years_Costumer because time since first buy is more significant then a date.\n",
        "df[\"Years_Costumer\"] = pd.to_datetime(\"now\") - pd.to_datetime(df[\"Dt_Customer\"])\n",
        "df[\"Years_Costumer\"] = df[\"Years_Costumer\"].astype(str)\n",
        "df[\"Years_Costumer\"] = df[\"Years_Costumer\"].str.slice(0,4,1)\n",
        "df[\"Years_Costumer\"] = pd.to_numeric(df['Years_Costumer'])/365"
      ],
      "execution_count": null,
      "outputs": []
    },
    {
      "cell_type": "code",
      "metadata": {
        "colab": {
          "base_uri": "https://localhost:8080/"
        },
        "id": "lYsKkwVxdllk",
        "outputId": "1d5913bf-613f-4618-8a5e-cc1401820311"
      },
      "source": [
        "print(df)"
      ],
      "execution_count": null,
      "outputs": [
        {
          "output_type": "stream",
          "text": [
            "         ID  Year_Birth   Education  ... Response  Age  Years_Costumer\n",
            "0      5524        1957  Graduation  ...        1   64        8.443836\n",
            "1      2174        1954  Graduation  ...        0   67        6.936986\n",
            "2      4141        1965  Graduation  ...        0   56        7.482192\n",
            "3      6182        1984  Graduation  ...        0   37        7.008219\n",
            "4      5324        1981         PhD  ...        0   40        7.068493\n",
            "...     ...         ...         ...  ...      ...  ...             ...\n",
            "2235  10870        1967  Graduation  ...        0   54        7.671233\n",
            "2236   4001        1946         PhD  ...        0   75        6.679452\n",
            "2237   7270        1981  Graduation  ...        0   40        7.052055\n",
            "2238   8235        1956      Master  ...        0   65        7.054795\n",
            "2239   9405        1954         PhD  ...        1   67        8.331507\n",
            "\n",
            "[2240 rows x 31 columns]\n"
          ],
          "name": "stdout"
        }
      ]
    },
    {
      "cell_type": "code",
      "metadata": {
        "id": "dGzNA1Z1d7cQ"
      },
      "source": [
        "# Copy of Dataset to a new with columns of interest. Excluding ID.\n",
        "df1 = df[[\"Age\",\"Years_Costumer\",\"Education\",\"Marital_Status\",\"Income\",\"Kidhome\",\"Teenhome\",\"Recency\",\"MntWines\",\"MntFruits\",\"MntMeatProducts\",\"MntFishProducts\",\"MntSweetProducts\",\"MntGoldProds\",\"NumDealsPurchases\",\"NumWebPurchases\",\"NumCatalogPurchases\",\"NumStorePurchases\",\"NumWebVisitsMonth\",\"AcceptedCmp1\",\"AcceptedCmp2\",\"AcceptedCmp3\",\"AcceptedCmp4\",\"AcceptedCmp5\",\"Complain\",\"Response\"]]"
      ],
      "execution_count": null,
      "outputs": []
    },
    {
      "cell_type": "code",
      "metadata": {
        "id": "R8zn94CLrhIo"
      },
      "source": [
        "# ONLY to make an analysis I make another copy of dataset for a positive return of Campaign.\n",
        "df2 = df1.loc[(df1[\"Response\"]==1), [\"Age\",\"Years_Costumer\",\"Education\",\"Marital_Status\",\"Income\",\"Kidhome\",\"Teenhome\",\"Recency\",\"MntWines\",\"MntFruits\",\"MntMeatProducts\",\"MntFishProducts\",\"MntSweetProducts\",\"MntGoldProds\",\"NumDealsPurchases\",\"NumWebPurchases\",\"NumCatalogPurchases\",\"NumStorePurchases\",\"NumWebVisitsMonth\",\"AcceptedCmp1\",\"AcceptedCmp2\",\"AcceptedCmp3\",\"AcceptedCmp4\",\"AcceptedCmp5\",\"Complain\"]]"
      ],
      "execution_count": null,
      "outputs": []
    },
    {
      "cell_type": "code",
      "metadata": {
        "colab": {
          "base_uri": "https://localhost:8080/",
          "height": 215
        },
        "id": "mHypHyLjuFuP",
        "outputId": "b62c5f5a-946e-442c-f12c-b020f709ff03"
      },
      "source": [
        "df2.tail()"
      ],
      "execution_count": null,
      "outputs": [
        {
          "output_type": "execute_result",
          "data": {
            "text/html": [
              "<div>\n",
              "<style scoped>\n",
              "    .dataframe tbody tr th:only-of-type {\n",
              "        vertical-align: middle;\n",
              "    }\n",
              "\n",
              "    .dataframe tbody tr th {\n",
              "        vertical-align: top;\n",
              "    }\n",
              "\n",
              "    .dataframe thead th {\n",
              "        text-align: right;\n",
              "    }\n",
              "</style>\n",
              "<table border=\"1\" class=\"dataframe\">\n",
              "  <thead>\n",
              "    <tr style=\"text-align: right;\">\n",
              "      <th></th>\n",
              "      <th>Age</th>\n",
              "      <th>Years_Costumer</th>\n",
              "      <th>Education</th>\n",
              "      <th>Marital_Status</th>\n",
              "      <th>Income</th>\n",
              "      <th>Kidhome</th>\n",
              "      <th>Teenhome</th>\n",
              "      <th>Recency</th>\n",
              "      <th>MntWines</th>\n",
              "      <th>MntFruits</th>\n",
              "      <th>MntMeatProducts</th>\n",
              "      <th>MntFishProducts</th>\n",
              "      <th>MntSweetProducts</th>\n",
              "      <th>MntGoldProds</th>\n",
              "      <th>NumDealsPurchases</th>\n",
              "      <th>NumWebPurchases</th>\n",
              "      <th>NumCatalogPurchases</th>\n",
              "      <th>NumStorePurchases</th>\n",
              "      <th>NumWebVisitsMonth</th>\n",
              "      <th>AcceptedCmp1</th>\n",
              "      <th>AcceptedCmp2</th>\n",
              "      <th>AcceptedCmp3</th>\n",
              "      <th>AcceptedCmp4</th>\n",
              "      <th>AcceptedCmp5</th>\n",
              "      <th>Complain</th>\n",
              "    </tr>\n",
              "  </thead>\n",
              "  <tbody>\n",
              "    <tr>\n",
              "      <th>2194</th>\n",
              "      <td>64</td>\n",
              "      <td>8.536986</td>\n",
              "      <td>Graduation</td>\n",
              "      <td>Married</td>\n",
              "      <td>73803.0</td>\n",
              "      <td>0</td>\n",
              "      <td>1</td>\n",
              "      <td>61</td>\n",
              "      <td>833</td>\n",
              "      <td>80</td>\n",
              "      <td>363</td>\n",
              "      <td>52</td>\n",
              "      <td>26</td>\n",
              "      <td>174</td>\n",
              "      <td>2</td>\n",
              "      <td>9</td>\n",
              "      <td>5</td>\n",
              "      <td>6</td>\n",
              "      <td>6</td>\n",
              "      <td>0</td>\n",
              "      <td>0</td>\n",
              "      <td>1</td>\n",
              "      <td>0</td>\n",
              "      <td>0</td>\n",
              "      <td>0</td>\n",
              "    </tr>\n",
              "    <tr>\n",
              "      <th>2198</th>\n",
              "      <td>67</td>\n",
              "      <td>7.657534</td>\n",
              "      <td>Graduation</td>\n",
              "      <td>Married</td>\n",
              "      <td>50501.0</td>\n",
              "      <td>1</td>\n",
              "      <td>1</td>\n",
              "      <td>10</td>\n",
              "      <td>297</td>\n",
              "      <td>0</td>\n",
              "      <td>38</td>\n",
              "      <td>13</td>\n",
              "      <td>0</td>\n",
              "      <td>152</td>\n",
              "      <td>7</td>\n",
              "      <td>5</td>\n",
              "      <td>4</td>\n",
              "      <td>4</td>\n",
              "      <td>6</td>\n",
              "      <td>0</td>\n",
              "      <td>0</td>\n",
              "      <td>1</td>\n",
              "      <td>0</td>\n",
              "      <td>0</td>\n",
              "      <td>0</td>\n",
              "    </tr>\n",
              "    <tr>\n",
              "      <th>2202</th>\n",
              "      <td>48</td>\n",
              "      <td>8.323288</td>\n",
              "      <td>PhD</td>\n",
              "      <td>YOLO</td>\n",
              "      <td>48432.0</td>\n",
              "      <td>0</td>\n",
              "      <td>1</td>\n",
              "      <td>3</td>\n",
              "      <td>322</td>\n",
              "      <td>3</td>\n",
              "      <td>50</td>\n",
              "      <td>4</td>\n",
              "      <td>3</td>\n",
              "      <td>42</td>\n",
              "      <td>5</td>\n",
              "      <td>7</td>\n",
              "      <td>1</td>\n",
              "      <td>6</td>\n",
              "      <td>8</td>\n",
              "      <td>0</td>\n",
              "      <td>0</td>\n",
              "      <td>0</td>\n",
              "      <td>0</td>\n",
              "      <td>0</td>\n",
              "      <td>0</td>\n",
              "    </tr>\n",
              "    <tr>\n",
              "      <th>2221</th>\n",
              "      <td>39</td>\n",
              "      <td>7.613699</td>\n",
              "      <td>Master</td>\n",
              "      <td>Single</td>\n",
              "      <td>75777.0</td>\n",
              "      <td>0</td>\n",
              "      <td>0</td>\n",
              "      <td>12</td>\n",
              "      <td>712</td>\n",
              "      <td>26</td>\n",
              "      <td>538</td>\n",
              "      <td>69</td>\n",
              "      <td>13</td>\n",
              "      <td>80</td>\n",
              "      <td>1</td>\n",
              "      <td>3</td>\n",
              "      <td>6</td>\n",
              "      <td>11</td>\n",
              "      <td>1</td>\n",
              "      <td>0</td>\n",
              "      <td>0</td>\n",
              "      <td>0</td>\n",
              "      <td>1</td>\n",
              "      <td>1</td>\n",
              "      <td>0</td>\n",
              "    </tr>\n",
              "    <tr>\n",
              "      <th>2239</th>\n",
              "      <td>67</td>\n",
              "      <td>8.331507</td>\n",
              "      <td>PhD</td>\n",
              "      <td>Married</td>\n",
              "      <td>52869.0</td>\n",
              "      <td>1</td>\n",
              "      <td>1</td>\n",
              "      <td>40</td>\n",
              "      <td>84</td>\n",
              "      <td>3</td>\n",
              "      <td>61</td>\n",
              "      <td>2</td>\n",
              "      <td>1</td>\n",
              "      <td>21</td>\n",
              "      <td>3</td>\n",
              "      <td>3</td>\n",
              "      <td>1</td>\n",
              "      <td>4</td>\n",
              "      <td>7</td>\n",
              "      <td>0</td>\n",
              "      <td>0</td>\n",
              "      <td>0</td>\n",
              "      <td>0</td>\n",
              "      <td>0</td>\n",
              "      <td>0</td>\n",
              "    </tr>\n",
              "  </tbody>\n",
              "</table>\n",
              "</div>"
            ],
            "text/plain": [
              "      Age  Years_Costumer   Education  ... AcceptedCmp4  AcceptedCmp5  Complain\n",
              "2194   64        8.536986  Graduation  ...            0             0         0\n",
              "2198   67        7.657534  Graduation  ...            0             0         0\n",
              "2202   48        8.323288         PhD  ...            0             0         0\n",
              "2221   39        7.613699      Master  ...            1             1         0\n",
              "2239   67        8.331507         PhD  ...            0             0         0\n",
              "\n",
              "[5 rows x 25 columns]"
            ]
          },
          "metadata": {
            "tags": []
          },
          "execution_count": 21
        }
      ]
    },
    {
      "cell_type": "code",
      "metadata": {
        "colab": {
          "base_uri": "https://localhost:8080/"
        },
        "id": "ME6hcAOc9Wy8",
        "outputId": "3c3d5a7c-9bde-4055-d32c-1115b588d943"
      },
      "source": [
        "print (df2)"
      ],
      "execution_count": null,
      "outputs": [
        {
          "output_type": "stream",
          "text": [
            "      Age  Years_Costumer   Education  ... AcceptedCmp4  AcceptedCmp5  Complain\n",
            "0      64        8.443836  Graduation  ...            0             0         0\n",
            "8      47        7.690411         PhD  ...            0             0         0\n",
            "15     75        8.221918         PhD  ...            0             1         0\n",
            "33     69        8.293151         PhD  ...            0             0         0\n",
            "39     78        8.032877         PhD  ...            0             0         0\n",
            "...   ...             ...         ...  ...          ...           ...       ...\n",
            "2194   64        8.536986  Graduation  ...            0             0         0\n",
            "2198   67        7.657534  Graduation  ...            0             0         0\n",
            "2202   48        8.323288         PhD  ...            0             0         0\n",
            "2221   39        7.613699      Master  ...            1             1         0\n",
            "2239   67        8.331507         PhD  ...            0             0         0\n",
            "\n",
            "[334 rows x 25 columns]\n"
          ],
          "name": "stdout"
        }
      ]
    },
    {
      "cell_type": "markdown",
      "metadata": {
        "id": "TFVsPP2Jxs04"
      },
      "source": [
        "Exploratory Analysis"
      ]
    },
    {
      "cell_type": "code",
      "metadata": {
        "colab": {
          "base_uri": "https://localhost:8080/",
          "height": 310
        },
        "id": "p08uHDayyABx",
        "outputId": "78c303e2-9296-4e1b-d592-8368048fe2f6"
      },
      "source": [
        "# Age Customers Distribution who accepted the offer?\n",
        "\n",
        "# Histogram\n",
        "df2.hist(column=\"Age\",bins = 50)\n",
        "plt.xlabel(\"Age\")\n",
        "plt.ylabel(\"Number of Customers\")\n",
        "plt.title(\"Age Customers Distribution\")\n",
        "plt.show()"
      ],
      "execution_count": null,
      "outputs": [
        {
          "output_type": "display_data",
          "data": {
            "image/png": "[encoded data removed]",
            "text/plain": [
              "<Figure size 432x288 with 1 Axes>"
            ]
          },
          "metadata": {
            "tags": [],
            "needs_background": "light"
          }
        }
      ]
    },
    {
      "cell_type": "code",
      "metadata": {
        "colab": {
          "base_uri": "https://localhost:8080/",
          "height": 310
        },
        "id": "7GPmIcsUUSG3",
        "outputId": "e65805be-dc44-44bc-a283-2139f7d661a5"
      },
      "source": [
        "# Customer's enrollment with the company distribution?\n",
        "\n",
        "# Histogram\n",
        "\n",
        "df2.hist(column=\"Years_Costumer\",bins = 30)\n",
        "plt.xlabel(\"Customer Time in Years\")\n",
        "plt.ylabel(\"Number of Customers\")\n",
        "plt.title(\"Customer's enrollment with the company\")\n",
        "plt.show()"
      ],
      "execution_count": null,
      "outputs": [
        {
          "output_type": "display_data",
          "data": {
            "image/png": "[encoded data removed]",
            "text/plain": [
              "<Figure size 432x288 with 1 Axes>"
            ]
          },
          "metadata": {
            "tags": [],
            "needs_background": "light"
          }
        }
      ]
    },
    {
      "cell_type": "code",
      "metadata": {
        "colab": {
          "base_uri": "https://localhost:8080/",
          "height": 320
        },
        "id": "ext9OO4JU-bO",
        "outputId": "a3aa75db-018b-4478-b083-5943f32add31"
      },
      "source": [
        "# Costumer's Level of Education distribution.\n",
        "\n",
        "# Setting quantity\n",
        "num = len(df2.Education.value_counts().index)\n",
        "\n",
        "# List of Colors\n",
        "listHSV = [(x*1.0/num, 0.5, 0.5) for x in range(num)]\n",
        "listRGB = list(map(lambda x: colorsys.hsv_to_rgb(*x), listHSV))\n",
        "labels = df2.Education.value_counts().index\n",
        "colors = ['OliveDrab', 'Orange', 'OrangeRed', 'DarkCyan', 'Salmon', 'Sienna', 'Maroon', 'LightSlateGrey', 'DimGray']\n",
        "\n",
        "# Pie Chart\n",
        "slices, texto = plt.pie(df2.Education.value_counts(), colors = listRGB, startangle = 90)\n",
        "plt.axes().set_aspect('equal', 'datalim')\n",
        "plt.legend(slices, labels, bbox_to_anchor = (1.25, 1))\n",
        "plt.title(\"Education Level\")\n",
        "plt.show()"
      ],
      "execution_count": null,
      "outputs": [
        {
          "output_type": "stream",
          "text": [
            "/usr/local/lib/python3.6/dist-packages/ipykernel_launcher.py:14: MatplotlibDeprecationWarning: Adding an axes using the same arguments as a previous axes currently reuses the earlier instance.  In a future version, a new instance will always be created and returned.  Meanwhile, this warning can be suppressed, and the future behavior ensured, by passing a unique label to each axes instance.\n",
            "  \n"
          ],
          "name": "stderr"
        },
        {
          "output_type": "display_data",
          "data": {
            "image/png": "[encoded data removed]",
            "text/plain": [
              "<Figure size 432x288 with 1 Axes>"
            ]
          },
          "metadata": {
            "tags": []
          }
        }
      ]
    },
    {
      "cell_type": "code",
      "metadata": {
        "colab": {
          "base_uri": "https://localhost:8080/",
          "height": 320
        },
        "id": "x_MEDGJYej4D",
        "outputId": "db63bfdf-41d0-41a7-e9e1-7db1eb34f980"
      },
      "source": [
        "# Costumer's Marital status distribution.\n",
        "\n",
        "num = len(df2.Marital_Status.value_counts().index)\n",
        "\n",
        "listHSV = [(x*1.0/num, 0.5, 0.5) for x in range(num)]\n",
        "listRGB = list(map(lambda x: colorsys.hsv_to_rgb(*x), listHSV))\n",
        "labels = df2.Marital_Status.value_counts().index\n",
        "#colors = ['OliveDrab', 'Orange', 'OrangeRed', 'DarkCyan', 'Salmon', 'Sienna', 'Maroon', 'LightSlateGrey', 'DimGray']\n",
        "\n",
        "slices, texto = plt.pie(df1.Marital_Status.value_counts(), colors = listRGB, startangle = 90)\n",
        "plt.axes().set_aspect('equal', 'datalim')\n",
        "plt.legend(slices, labels, bbox_to_anchor = (1.25, 1))\n",
        "plt.title(\"Marital status\")\n",
        "plt.show()"
      ],
      "execution_count": null,
      "outputs": [
        {
          "output_type": "stream",
          "text": [
            "/usr/local/lib/python3.6/dist-packages/ipykernel_launcher.py:11: MatplotlibDeprecationWarning: Adding an axes using the same arguments as a previous axes currently reuses the earlier instance.  In a future version, a new instance will always be created and returned.  Meanwhile, this warning can be suppressed, and the future behavior ensured, by passing a unique label to each axes instance.\n",
            "  # This is added back by InteractiveShellApp.init_path()\n"
          ],
          "name": "stderr"
        },
        {
          "output_type": "display_data",
          "data": {
            "image/png": "[encoded data removed]",
            "text/plain": [
              "<Figure size 432x288 with 1 Axes>"
            ]
          },
          "metadata": {
            "tags": []
          }
        }
      ]
    },
    {
      "cell_type": "code",
      "metadata": {
        "colab": {
          "base_uri": "https://localhost:8080/",
          "height": 310
        },
        "id": "QeOUKuK4xZoV",
        "outputId": "b685309e-1103-4606-a183-12f8116297e3"
      },
      "source": [
        "# Income distribution who accepted the offer?\n",
        "\n",
        "# Histogram\n",
        "#data.hist(column=\"ApplicantIncome\",by=\"Loan_Status\",bins=30)\n",
        "df2.hist(column=\"Income\",bins = 50)\n",
        "plt.xlabel(\"Income\")\n",
        "plt.ylabel(\"Number of Costumers\")\n",
        "plt.title(\"Income distribution\")\n",
        "plt.show()"
      ],
      "execution_count": null,
      "outputs": [
        {
          "output_type": "display_data",
          "data": {
            "image/png": "[encoded data removed]",
            "text/plain": [
              "<Figure size 432x288 with 1 Axes>"
            ]
          },
          "metadata": {
            "tags": [],
            "needs_background": "light"
          }
        }
      ]
    },
    {
      "cell_type": "code",
      "metadata": {
        "colab": {
          "base_uri": "https://localhost:8080/",
          "height": 320
        },
        "id": "fjuebMihxxp8",
        "outputId": "6dd455b4-e4f8-4d18-feec-7c47e8f1653d"
      },
      "source": [
        "# Small children at costumer's household distribution.\n",
        "\n",
        "num = len(df2.Kidhome.value_counts().index)\n",
        "\n",
        "listHSV = [(x*1.0/num, 0.5, 0.5) for x in range(num)]\n",
        "listRGB = list(map(lambda x: colorsys.hsv_to_rgb(*x), listHSV))\n",
        "labels = df2.Kidhome.value_counts().index\n",
        "#colors = ['OliveDrab', 'Orange', 'OrangeRed', 'DarkCyan', 'Salmon', 'Sienna', 'Maroon', 'LightSlateGrey', 'DimGray']\n",
        "\n",
        "slices, texto = plt.pie(df2.Kidhome.value_counts(), colors = listRGB, startangle = 90)\n",
        "plt.axes().set_aspect('equal', 'datalim')\n",
        "plt.legend(slices, labels, bbox_to_anchor = (1.25, 1))\n",
        "plt.title(\"Kids at Home\")\n",
        "plt.show()"
      ],
      "execution_count": null,
      "outputs": [
        {
          "output_type": "stream",
          "text": [
            "/usr/local/lib/python3.6/dist-packages/ipykernel_launcher.py:11: MatplotlibDeprecationWarning: Adding an axes using the same arguments as a previous axes currently reuses the earlier instance.  In a future version, a new instance will always be created and returned.  Meanwhile, this warning can be suppressed, and the future behavior ensured, by passing a unique label to each axes instance.\n",
            "  # This is added back by InteractiveShellApp.init_path()\n"
          ],
          "name": "stderr"
        },
        {
          "output_type": "display_data",
          "data": {
            "image/png": "[encoded data removed]",
            "text/plain": [
              "<Figure size 432x288 with 1 Axes>"
            ]
          },
          "metadata": {
            "tags": []
          }
        }
      ]
    },
    {
      "cell_type": "code",
      "metadata": {
        "colab": {
          "base_uri": "https://localhost:8080/",
          "height": 320
        },
        "id": "t6moc4FyysGm",
        "outputId": "7c5c4225-4c7c-45f6-9e7f-31e510677a81"
      },
      "source": [
        "# Number of teenagers at costumer's household distribution.\n",
        "\n",
        "num = len(df2.Teenhome.value_counts().index)\n",
        "\n",
        "listHSV = [(x*1.0/num, 0.5, 0.5) for x in range(num)]\n",
        "listRGB = list(map(lambda x: colorsys.hsv_to_rgb(*x), listHSV))\n",
        "labels = df2.Teenhome.value_counts().index\n",
        "#colors = ['OliveDrab', 'Orange', 'OrangeRed', 'DarkCyan', 'Salmon', 'Sienna', 'Maroon', 'LightSlateGrey', 'DimGray']\n",
        "\n",
        "slices, texto = plt.pie(df2.Teenhome.value_counts(), colors = listRGB, startangle = 90)\n",
        "plt.axes().set_aspect('equal', 'datalim')\n",
        "plt.legend(slices, labels, bbox_to_anchor = (1.25, 1))\n",
        "plt.title(\"Teen at Home\")\n",
        "plt.show()"
      ],
      "execution_count": null,
      "outputs": [
        {
          "output_type": "stream",
          "text": [
            "/usr/local/lib/python3.6/dist-packages/ipykernel_launcher.py:11: MatplotlibDeprecationWarning: Adding an axes using the same arguments as a previous axes currently reuses the earlier instance.  In a future version, a new instance will always be created and returned.  Meanwhile, this warning can be suppressed, and the future behavior ensured, by passing a unique label to each axes instance.\n",
            "  # This is added back by InteractiveShellApp.init_path()\n"
          ],
          "name": "stderr"
        },
        {
          "output_type": "display_data",
          "data": {
            "image/png": "[encoded data removed]",
            "text/plain": [
              "<Figure size 432x288 with 1 Axes>"
            ]
          },
          "metadata": {
            "tags": []
          }
        }
      ]
    },
    {
      "cell_type": "code",
      "metadata": {
        "colab": {
          "base_uri": "https://localhost:8080/",
          "height": 310
        },
        "id": "jdP6h6Wfzx-v",
        "outputId": "bb9974f5-0076-418a-c6e9-070ddd84760f"
      },
      "source": [
        "# Number of days since the last purchase distribution who accepted the offer.\n",
        "\n",
        "df2.hist(column=\"Recency\",bins = 50)\n",
        "plt.xlabel(\"Recency\")\n",
        "plt.ylabel(\"Number of Costumers\")\n",
        "plt.title(\"Recency Distribution\")\n",
        "plt.show()"
      ],
      "execution_count": null,
      "outputs": [
        {
          "output_type": "display_data",
          "data": {
            "image/png": "[encoded data removed]",
            "text/plain": [
              "<Figure size 432x288 with 1 Axes>"
            ]
          },
          "metadata": {
            "tags": [],
            "needs_background": "light"
          }
        }
      ]
    },
    {
      "cell_type": "code",
      "metadata": {
        "colab": {
          "base_uri": "https://localhost:8080/",
          "height": 310
        },
        "id": "GhDrx9z794eC",
        "outputId": "001f2942-afb0-461a-9b98-5e06efff6a43"
      },
      "source": [
        "# Amount spent on Wines distribution.\n",
        "\n",
        "df2.hist(column=\"MntWines\",bins = 50)\n",
        "plt.xlabel(\"MntWines\")\n",
        "plt.ylabel(\"Costumers\")\n",
        "plt.title(\"Amount spent on Wines distribution\")\n",
        "plt.show()"
      ],
      "execution_count": null,
      "outputs": [
        {
          "output_type": "display_data",
          "data": {
            "image/png": "[encoded data removed]",
            "text/plain": [
              "<Figure size 432x288 with 1 Axes>"
            ]
          },
          "metadata": {
            "tags": [],
            "needs_background": "light"
          }
        }
      ]
    },
    {
      "cell_type": "code",
      "metadata": {
        "colab": {
          "base_uri": "https://localhost:8080/",
          "height": 310
        },
        "id": "bA__NG8r-jEh",
        "outputId": "a429f483-8686-4e5e-8fdd-81a32480fdc3"
      },
      "source": [
        "# Amount spent on Fruits distribution.\n",
        "\n",
        "df2.hist(column=\"MntFruits\",bins = 50)\n",
        "plt.xlabel(\"MntFruits\")\n",
        "plt.ylabel(\"Costumers\")\n",
        "plt.title(\"Amount spent on Fruits distributionn\")\n",
        "plt.show()"
      ],
      "execution_count": null,
      "outputs": [
        {
          "output_type": "display_data",
          "data": {
            "image/png": "[encoded data removed]",
            "text/plain": [
              "<Figure size 432x288 with 1 Axes>"
            ]
          },
          "metadata": {
            "tags": [],
            "needs_background": "light"
          }
        }
      ]
    },
    {
      "cell_type": "code",
      "metadata": {
        "colab": {
          "base_uri": "https://localhost:8080/",
          "height": 310
        },
        "id": "CiBZAjcl_d6A",
        "outputId": "88309ce3-f70a-45ec-9434-326ec645439c"
      },
      "source": [
        "# Amount spent on Meat distribution\n",
        "\n",
        "df2.hist(column=\"MntMeatProducts\",bins = 50)\n",
        "plt.xlabel(\"MntMeatProducts\")\n",
        "plt.ylabel(\"Customers\")\n",
        "plt.title(\"Amount spent on Meat distribution\")\n",
        "plt.show()"
      ],
      "execution_count": null,
      "outputs": [
        {
          "output_type": "display_data",
          "data": {
            "image/png": "[encoded data removed]",
            "text/plain": [
              "<Figure size 432x288 with 1 Axes>"
            ]
          },
          "metadata": {
            "tags": [],
            "needs_background": "light"
          }
        }
      ]
    },
    {
      "cell_type": "code",
      "metadata": {
        "colab": {
          "base_uri": "https://localhost:8080/",
          "height": 310
        },
        "id": "6bc6zRtI_r6m",
        "outputId": "4580e4e1-1a88-4d31-9fea-7b7cdffbefbf"
      },
      "source": [
        "# Amount spent on Fish distribution\n",
        "\n",
        "df2.hist(column=\"MntFishProducts\",bins = 50)\n",
        "plt.xlabel(\"MntFishProducts\")\n",
        "plt.ylabel(\"Customers\")\n",
        "plt.title(\"Amount spent on Fish distribution\")\n",
        "plt.show()"
      ],
      "execution_count": null,
      "outputs": [
        {
          "output_type": "display_data",
          "data": {
            "image/png": "[encoded data removed]",
            "text/plain": [
              "<Figure size 432x288 with 1 Axes>"
            ]
          },
          "metadata": {
            "tags": [],
            "needs_background": "light"
          }
        }
      ]
    },
    {
      "cell_type": "code",
      "metadata": {
        "colab": {
          "base_uri": "https://localhost:8080/",
          "height": 310
        },
        "id": "Kyq0dBd5_8k9",
        "outputId": "94d0961f-84d3-4c2d-cef4-5b7b3f913a07"
      },
      "source": [
        "# Amount spent on Sweet distribution\n",
        "\n",
        "df2.hist(column=\"MntSweetProducts\",bins = 50)\n",
        "plt.xlabel(\"MntSweetProducts\")\n",
        "plt.ylabel(\"Customers\")\n",
        "plt.title(\"Amount spent on Sweet distribution\")\n",
        "plt.show()"
      ],
      "execution_count": null,
      "outputs": [
        {
          "output_type": "display_data",
          "data": {
            "image/png": "[encoded data removed]",
            "text/plain": [
              "<Figure size 432x288 with 1 Axes>"
            ]
          },
          "metadata": {
            "tags": [],
            "needs_background": "light"
          }
        }
      ]
    },
    {
      "cell_type": "code",
      "metadata": {
        "colab": {
          "base_uri": "https://localhost:8080/",
          "height": 310
        },
        "id": "AMuah0zJAKZm",
        "outputId": "ca111cc4-516c-4542-a6c7-5f360819bbe3"
      },
      "source": [
        "# Number of purchases made with discount distribution\n",
        "\n",
        "df2.hist(column=\"NumDealsPurchases\",bins = 50)\n",
        "plt.xlabel(\"NumDealsPurchases\")\n",
        "plt.ylabel(\"Costumers\")\n",
        "plt.title(\"Number of purchases made with discount distribution\")\n",
        "plt.show()"
      ],
      "execution_count": null,
      "outputs": [
        {
          "output_type": "display_data",
          "data": {
            "image/png": "[encoded data removed]",
            "text/plain": [
              "<Figure size 432x288 with 1 Axes>"
            ]
          },
          "metadata": {
            "tags": [],
            "needs_background": "light"
          }
        }
      ]
    },
    {
      "cell_type": "code",
      "metadata": {
        "colab": {
          "base_uri": "https://localhost:8080/",
          "height": 310
        },
        "id": "TDz7_dbRA9gA",
        "outputId": "c2894a95-e18e-446d-8063-002da608da68"
      },
      "source": [
        "# Number of purchases made through company's website distribution\n",
        "\n",
        "df2.hist(column=\"NumWebPurchases\",bins = 50)\n",
        "plt.xlabel(\"NumWebPurchases\")\n",
        "plt.ylabel(\"Costumers\")\n",
        "plt.title(\"Number of purchases made through company's website distribution\")\n",
        "plt.show()"
      ],
      "execution_count": null,
      "outputs": [
        {
          "output_type": "display_data",
          "data": {
            "image/png": "[encoded data removed]",
            "text/plain": [
              "<Figure size 432x288 with 1 Axes>"
            ]
          },
          "metadata": {
            "tags": [],
            "needs_background": "light"
          }
        }
      ]
    },
    {
      "cell_type": "code",
      "metadata": {
        "colab": {
          "base_uri": "https://localhost:8080/",
          "height": 310
        },
        "id": "u_uhDUTlBNMm",
        "outputId": "524ba1f5-ab99-4afe-8873-0c800d44b966"
      },
      "source": [
        "# Number of purchases made using catalogue distribution.\n",
        "\n",
        "df2.hist(column=\"NumCatalogPurchases\",bins = 50)\n",
        "plt.xlabel(\"NumCatalogPurchases\")\n",
        "plt.ylabel(\"Número de Consumidores\")\n",
        "plt.title(\"NumCatalogPurchases Distribution\")\n",
        "plt.show()"
      ],
      "execution_count": null,
      "outputs": [
        {
          "output_type": "display_data",
          "data": {
            "image/png": "[encoded data removed]",
            "text/plain": [
              "<Figure size 432x288 with 1 Axes>"
            ]
          },
          "metadata": {
            "tags": [],
            "needs_background": "light"
          }
        }
      ]
    },
    {
      "cell_type": "code",
      "metadata": {
        "colab": {
          "base_uri": "https://localhost:8080/",
          "height": 310
        },
        "id": "54zFYOyGBbN-",
        "outputId": "e414d486-8dd9-40a7-e238-358a7a752982"
      },
      "source": [
        "# Number of purchases made directly in store distribution.\n",
        "\n",
        "df2.hist(column=\"NumStorePurchases\",bins = 50)\n",
        "plt.xlabel(\"NumStorePurchases\")\n",
        "plt.ylabel(\"Costumers\")\n",
        "plt.title(\"Number of purchases made directly in store distribution\")\n",
        "plt.show()"
      ],
      "execution_count": null,
      "outputs": [
        {
          "output_type": "display_data",
          "data": {
            "image/png": "[encoded data removed]",
            "text/plain": [
              "<Figure size 432x288 with 1 Axes>"
            ]
          },
          "metadata": {
            "tags": [],
            "needs_background": "light"
          }
        }
      ]
    },
    {
      "cell_type": "code",
      "metadata": {
        "colab": {
          "base_uri": "https://localhost:8080/",
          "height": 310
        },
        "id": "u00LVbGLBs51",
        "outputId": "8920694d-1fa1-4d7f-c836-08ddc72ffeb1"
      },
      "source": [
        "# Number of web visits during last month distribution.\n",
        "\n",
        "df2.hist(column=\"NumWebVisitsMonth\",bins = 50)\n",
        "plt.xlabel(\"NumWebVisitsMonth\")\n",
        "plt.ylabel(\"Costumers\")\n",
        "plt.title(\"Web visits during last month distribution\")\n",
        "plt.show()"
      ],
      "execution_count": null,
      "outputs": [
        {
          "output_type": "display_data",
          "data": {
            "image/png": "[encoded data removed]",
            "text/plain": [
              "<Figure size 432x288 with 1 Axes>"
            ]
          },
          "metadata": {
            "tags": [],
            "needs_background": "light"
          }
        }
      ]
    },
    {
      "cell_type": "code",
      "metadata": {
        "id": "XCjXtH1IAZKP",
        "colab": {
          "base_uri": "https://localhost:8080/",
          "height": 292
        },
        "outputId": "e5d6dc0b-11ac-4580-e909-7d0098a8d70a"
      },
      "source": [
        "# Costumer complained in the last 2 years?\n",
        "\n",
        "# Bar plot\n",
        "\n",
        "sns.countplot(df2['Complain']);"
      ],
      "execution_count": null,
      "outputs": [
        {
          "output_type": "display_data",
          "data": {
            "image/png": "[encoded data removed]",
            "text/plain": [
              "<Figure size 432x288 with 1 Axes>"
            ]
          },
          "metadata": {
            "tags": [],
            "needs_background": "light"
          }
        }
      ]
    },
    {
      "cell_type": "code",
      "metadata": {
        "colab": {
          "base_uri": "https://localhost:8080/"
        },
        "id": "cMIL0Uukvrg0",
        "outputId": "554998b5-4463-4adf-9a6f-8d2f3dcba485"
      },
      "source": [
        "# Checking null values\n",
        "df2.isnull().sum()"
      ],
      "execution_count": null,
      "outputs": [
        {
          "output_type": "execute_result",
          "data": {
            "text/plain": [
              "Age                    0\n",
              "Years_Costumer         0\n",
              "Education              0\n",
              "Marital_Status         0\n",
              "Income                 1\n",
              "Kidhome                0\n",
              "Teenhome               0\n",
              "Recency                0\n",
              "MntWines               0\n",
              "MntFruits              0\n",
              "MntMeatProducts        0\n",
              "MntFishProducts        0\n",
              "MntSweetProducts       0\n",
              "MntGoldProds           0\n",
              "NumDealsPurchases      0\n",
              "NumWebPurchases        0\n",
              "NumCatalogPurchases    0\n",
              "NumStorePurchases      0\n",
              "NumWebVisitsMonth      0\n",
              "AcceptedCmp1           0\n",
              "AcceptedCmp2           0\n",
              "AcceptedCmp3           0\n",
              "AcceptedCmp4           0\n",
              "AcceptedCmp5           0\n",
              "Complain               0\n",
              "dtype: int64"
            ]
          },
          "metadata": {
            "tags": []
          },
          "execution_count": 42
        }
      ]
    },
    {
      "cell_type": "code",
      "metadata": {
        "id": "Qw2X9jFRh2pb"
      },
      "source": [
        "# Droping null values\n",
        "df2.dropna(inplace=True)"
      ],
      "execution_count": null,
      "outputs": []
    },
    {
      "cell_type": "code",
      "metadata": {
        "colab": {
          "base_uri": "https://localhost:8080/"
        },
        "id": "c-zlwF9mRqjF",
        "outputId": "335f8f51-07c0-421e-e985-29d5d4cd0571"
      },
      "source": [
        "# Checking again null values\n",
        "df2.isnull().sum()"
      ],
      "execution_count": null,
      "outputs": [
        {
          "output_type": "execute_result",
          "data": {
            "text/plain": [
              "Age                    0\n",
              "Years_Costumer         0\n",
              "Education              0\n",
              "Marital_Status         0\n",
              "Income                 0\n",
              "Kidhome                0\n",
              "Teenhome               0\n",
              "Recency                0\n",
              "MntWines               0\n",
              "MntFruits              0\n",
              "MntMeatProducts        0\n",
              "MntFishProducts        0\n",
              "MntSweetProducts       0\n",
              "MntGoldProds           0\n",
              "NumDealsPurchases      0\n",
              "NumWebPurchases        0\n",
              "NumCatalogPurchases    0\n",
              "NumStorePurchases      0\n",
              "NumWebVisitsMonth      0\n",
              "AcceptedCmp1           0\n",
              "AcceptedCmp2           0\n",
              "AcceptedCmp3           0\n",
              "AcceptedCmp4           0\n",
              "AcceptedCmp5           0\n",
              "Complain               0\n",
              "dtype: int64"
            ]
          },
          "metadata": {
            "tags": []
          },
          "execution_count": 44
        }
      ]
    },
    {
      "cell_type": "code",
      "metadata": {
        "id": "7YzbFdtdunug"
      },
      "source": [
        "# Identifying correlation between variables\n",
        "\n",
        "def plot_corr(df2, size=32):\n",
        "    corr = df2.corr()\n",
        "    fig, ax = plt.subplots(figsize = (size, size))\n",
        "    ax.matshow(corr)\n",
        "    plt.xticks(range(len(corr.columns)), corr.columns)\n",
        "    plt.yticks(range(len(corr.columns)), corr.columns)"
      ],
      "execution_count": null,
      "outputs": []
    },
    {
      "cell_type": "code",
      "metadata": {
        "colab": {
          "base_uri": "https://localhost:8080/",
          "height": 923
        },
        "id": "7sIw4puvunui",
        "outputId": "d212cba2-96cf-44f0-ceb8-0311de5ae8a4"
      },
      "source": [
        "# Ploting graph\n",
        "plot_corr(df2)\n"
      ],
      "execution_count": null,
      "outputs": [
        {
          "output_type": "display_data",
          "data": {
            "image/png": "[encoded data removed]",
            "text/plain": [
              "<Figure size 2304x2304 with 1 Axes>"
            ]
          },
          "metadata": {
            "tags": [],
            "needs_background": "light"
          }
        }
      ]
    },
    {
      "cell_type": "code",
      "metadata": {
        "colab": {
          "base_uri": "https://localhost:8080/",
          "height": 748
        },
        "id": "oxgAu3T0unuq",
        "outputId": "c9662c4a-2805-4e06-a321-98a0ff85fe79"
      },
      "source": [
        "# Visualising correlation in a table\n",
        "\n",
        "df2.corr()"
      ],
      "execution_count": null,
      "outputs": [
        {
          "output_type": "execute_result",
          "data": {
            "text/html": [
              "<div>\n",
              "<style scoped>\n",
              "    .dataframe tbody tr th:only-of-type {\n",
              "        vertical-align: middle;\n",
              "    }\n",
              "\n",
              "    .dataframe tbody tr th {\n",
              "        vertical-align: top;\n",
              "    }\n",
              "\n",
              "    .dataframe thead th {\n",
              "        text-align: right;\n",
              "    }\n",
              "</style>\n",
              "<table border=\"1\" class=\"dataframe\">\n",
              "  <thead>\n",
              "    <tr style=\"text-align: right;\">\n",
              "      <th></th>\n",
              "      <th>Age</th>\n",
              "      <th>Years_Costumer</th>\n",
              "      <th>Income</th>\n",
              "      <th>Kidhome</th>\n",
              "      <th>Teenhome</th>\n",
              "      <th>Recency</th>\n",
              "      <th>MntWines</th>\n",
              "      <th>MntFruits</th>\n",
              "      <th>MntMeatProducts</th>\n",
              "      <th>MntFishProducts</th>\n",
              "      <th>MntSweetProducts</th>\n",
              "      <th>MntGoldProds</th>\n",
              "      <th>NumDealsPurchases</th>\n",
              "      <th>NumWebPurchases</th>\n",
              "      <th>NumCatalogPurchases</th>\n",
              "      <th>NumStorePurchases</th>\n",
              "      <th>NumWebVisitsMonth</th>\n",
              "      <th>AcceptedCmp1</th>\n",
              "      <th>AcceptedCmp2</th>\n",
              "      <th>AcceptedCmp3</th>\n",
              "      <th>AcceptedCmp4</th>\n",
              "      <th>AcceptedCmp5</th>\n",
              "      <th>Complain</th>\n",
              "    </tr>\n",
              "  </thead>\n",
              "  <tbody>\n",
              "    <tr>\n",
              "      <th>Age</th>\n",
              "      <td>1.000000</td>\n",
              "      <td>0.087405</td>\n",
              "      <td>0.088756</td>\n",
              "      <td>-0.156008</td>\n",
              "      <td>0.325148</td>\n",
              "      <td>0.037790</td>\n",
              "      <td>0.114519</td>\n",
              "      <td>-0.066356</td>\n",
              "      <td>-0.034759</td>\n",
              "      <td>0.056341</td>\n",
              "      <td>0.016616</td>\n",
              "      <td>0.060912</td>\n",
              "      <td>0.154752</td>\n",
              "      <td>0.218162</td>\n",
              "      <td>0.155778</td>\n",
              "      <td>0.066440</td>\n",
              "      <td>0.039221</td>\n",
              "      <td>-0.042917</td>\n",
              "      <td>0.043019</td>\n",
              "      <td>-0.099405</td>\n",
              "      <td>0.064985</td>\n",
              "      <td>-0.103385</td>\n",
              "      <td>-0.122640</td>\n",
              "    </tr>\n",
              "    <tr>\n",
              "      <th>Years_Costumer</th>\n",
              "      <td>0.087405</td>\n",
              "      <td>1.000000</td>\n",
              "      <td>-0.122755</td>\n",
              "      <td>0.048590</td>\n",
              "      <td>0.138321</td>\n",
              "      <td>0.264680</td>\n",
              "      <td>-0.010164</td>\n",
              "      <td>-0.063962</td>\n",
              "      <td>-0.122756</td>\n",
              "      <td>-0.034827</td>\n",
              "      <td>-0.004901</td>\n",
              "      <td>0.046162</td>\n",
              "      <td>0.238602</td>\n",
              "      <td>0.172634</td>\n",
              "      <td>-0.070874</td>\n",
              "      <td>0.027617</td>\n",
              "      <td>0.337193</td>\n",
              "      <td>-0.211469</td>\n",
              "      <td>-0.100226</td>\n",
              "      <td>-0.122766</td>\n",
              "      <td>-0.016833</td>\n",
              "      <td>-0.140267</td>\n",
              "      <td>0.096196</td>\n",
              "    </tr>\n",
              "    <tr>\n",
              "      <th>Income</th>\n",
              "      <td>0.088756</td>\n",
              "      <td>-0.122755</td>\n",
              "      <td>1.000000</td>\n",
              "      <td>-0.674707</td>\n",
              "      <td>-0.158357</td>\n",
              "      <td>0.198324</td>\n",
              "      <td>0.703895</td>\n",
              "      <td>0.499129</td>\n",
              "      <td>0.724620</td>\n",
              "      <td>0.539026</td>\n",
              "      <td>0.543935</td>\n",
              "      <td>0.326309</td>\n",
              "      <td>-0.407219</td>\n",
              "      <td>0.417701</td>\n",
              "      <td>0.709487</td>\n",
              "      <td>0.625294</td>\n",
              "      <td>-0.758301</td>\n",
              "      <td>0.499956</td>\n",
              "      <td>0.148939</td>\n",
              "      <td>-0.159292</td>\n",
              "      <td>0.306348</td>\n",
              "      <td>0.609860</td>\n",
              "      <td>-0.027329</td>\n",
              "    </tr>\n",
              "    <tr>\n",
              "      <th>Kidhome</th>\n",
              "      <td>-0.156008</td>\n",
              "      <td>0.048590</td>\n",
              "      <td>-0.674707</td>\n",
              "      <td>1.000000</td>\n",
              "      <td>0.138757</td>\n",
              "      <td>-0.161269</td>\n",
              "      <td>-0.574341</td>\n",
              "      <td>-0.439437</td>\n",
              "      <td>-0.560583</td>\n",
              "      <td>-0.452792</td>\n",
              "      <td>-0.453858</td>\n",
              "      <td>-0.299284</td>\n",
              "      <td>0.427882</td>\n",
              "      <td>-0.398161</td>\n",
              "      <td>-0.618197</td>\n",
              "      <td>-0.542791</td>\n",
              "      <td>0.578516</td>\n",
              "      <td>-0.334064</td>\n",
              "      <td>-0.177700</td>\n",
              "      <td>0.097110</td>\n",
              "      <td>-0.225352</td>\n",
              "      <td>-0.375729</td>\n",
              "      <td>0.128762</td>\n",
              "    </tr>\n",
              "    <tr>\n",
              "      <th>Teenhome</th>\n",
              "      <td>0.325148</td>\n",
              "      <td>0.138321</td>\n",
              "      <td>-0.158357</td>\n",
              "      <td>0.138757</td>\n",
              "      <td>1.000000</td>\n",
              "      <td>0.052202</td>\n",
              "      <td>-0.063407</td>\n",
              "      <td>-0.308163</td>\n",
              "      <td>-0.340096</td>\n",
              "      <td>-0.267094</td>\n",
              "      <td>-0.279760</td>\n",
              "      <td>-0.026000</td>\n",
              "      <td>0.625771</td>\n",
              "      <td>0.199349</td>\n",
              "      <td>-0.168486</td>\n",
              "      <td>-0.101834</td>\n",
              "      <td>0.371154</td>\n",
              "      <td>-0.189198</td>\n",
              "      <td>0.022428</td>\n",
              "      <td>0.005994</td>\n",
              "      <td>0.047138</td>\n",
              "      <td>-0.258265</td>\n",
              "      <td>-0.059305</td>\n",
              "    </tr>\n",
              "    <tr>\n",
              "      <th>Recency</th>\n",
              "      <td>0.037790</td>\n",
              "      <td>0.264680</td>\n",
              "      <td>0.198324</td>\n",
              "      <td>-0.161269</td>\n",
              "      <td>0.052202</td>\n",
              "      <td>1.000000</td>\n",
              "      <td>0.212743</td>\n",
              "      <td>0.074476</td>\n",
              "      <td>0.135313</td>\n",
              "      <td>0.115679</td>\n",
              "      <td>0.143509</td>\n",
              "      <td>0.067695</td>\n",
              "      <td>-0.063003</td>\n",
              "      <td>0.152869</td>\n",
              "      <td>0.201409</td>\n",
              "      <td>0.131458</td>\n",
              "      <td>-0.097965</td>\n",
              "      <td>0.079397</td>\n",
              "      <td>0.097043</td>\n",
              "      <td>0.034007</td>\n",
              "      <td>0.164125</td>\n",
              "      <td>0.129756</td>\n",
              "      <td>0.022139</td>\n",
              "    </tr>\n",
              "    <tr>\n",
              "      <th>MntWines</th>\n",
              "      <td>0.114519</td>\n",
              "      <td>-0.010164</td>\n",
              "      <td>0.703895</td>\n",
              "      <td>-0.574341</td>\n",
              "      <td>-0.063407</td>\n",
              "      <td>0.212743</td>\n",
              "      <td>1.000000</td>\n",
              "      <td>0.320943</td>\n",
              "      <td>0.488555</td>\n",
              "      <td>0.316219</td>\n",
              "      <td>0.315373</td>\n",
              "      <td>0.238214</td>\n",
              "      <td>-0.202217</td>\n",
              "      <td>0.452766</td>\n",
              "      <td>0.559024</td>\n",
              "      <td>0.530361</td>\n",
              "      <td>-0.445822</td>\n",
              "      <td>0.405330</td>\n",
              "      <td>0.236746</td>\n",
              "      <td>-0.082340</td>\n",
              "      <td>0.367889</td>\n",
              "      <td>0.552491</td>\n",
              "      <td>-0.058020</td>\n",
              "    </tr>\n",
              "    <tr>\n",
              "      <th>MntFruits</th>\n",
              "      <td>-0.066356</td>\n",
              "      <td>-0.063962</td>\n",
              "      <td>0.499129</td>\n",
              "      <td>-0.439437</td>\n",
              "      <td>-0.308163</td>\n",
              "      <td>0.074476</td>\n",
              "      <td>0.320943</td>\n",
              "      <td>1.000000</td>\n",
              "      <td>0.547348</td>\n",
              "      <td>0.541373</td>\n",
              "      <td>0.429683</td>\n",
              "      <td>0.327015</td>\n",
              "      <td>-0.341511</td>\n",
              "      <td>0.181555</td>\n",
              "      <td>0.488424</td>\n",
              "      <td>0.340215</td>\n",
              "      <td>-0.502871</td>\n",
              "      <td>0.219687</td>\n",
              "      <td>-0.037988</td>\n",
              "      <td>-0.044024</td>\n",
              "      <td>-0.024277</td>\n",
              "      <td>0.264928</td>\n",
              "      <td>-0.054640</td>\n",
              "    </tr>\n",
              "    <tr>\n",
              "      <th>MntMeatProducts</th>\n",
              "      <td>-0.034759</td>\n",
              "      <td>-0.122756</td>\n",
              "      <td>0.724620</td>\n",
              "      <td>-0.560583</td>\n",
              "      <td>-0.340096</td>\n",
              "      <td>0.135313</td>\n",
              "      <td>0.488555</td>\n",
              "      <td>0.547348</td>\n",
              "      <td>1.000000</td>\n",
              "      <td>0.519557</td>\n",
              "      <td>0.487425</td>\n",
              "      <td>0.259489</td>\n",
              "      <td>-0.401319</td>\n",
              "      <td>0.202409</td>\n",
              "      <td>0.567541</td>\n",
              "      <td>0.462215</td>\n",
              "      <td>-0.697756</td>\n",
              "      <td>0.313771</td>\n",
              "      <td>-0.007685</td>\n",
              "      <td>-0.111649</td>\n",
              "      <td>0.063898</td>\n",
              "      <td>0.403142</td>\n",
              "      <td>-0.016551</td>\n",
              "    </tr>\n",
              "    <tr>\n",
              "      <th>MntFishProducts</th>\n",
              "      <td>0.056341</td>\n",
              "      <td>-0.034827</td>\n",
              "      <td>0.539026</td>\n",
              "      <td>-0.452792</td>\n",
              "      <td>-0.267094</td>\n",
              "      <td>0.115679</td>\n",
              "      <td>0.316219</td>\n",
              "      <td>0.541373</td>\n",
              "      <td>0.519557</td>\n",
              "      <td>1.000000</td>\n",
              "      <td>0.453411</td>\n",
              "      <td>0.380370</td>\n",
              "      <td>-0.335123</td>\n",
              "      <td>0.152766</td>\n",
              "      <td>0.573261</td>\n",
              "      <td>0.328586</td>\n",
              "      <td>-0.553143</td>\n",
              "      <td>0.311801</td>\n",
              "      <td>-0.036612</td>\n",
              "      <td>-0.090728</td>\n",
              "      <td>-0.030246</td>\n",
              "      <td>0.221478</td>\n",
              "      <td>-0.053776</td>\n",
              "    </tr>\n",
              "    <tr>\n",
              "      <th>MntSweetProducts</th>\n",
              "      <td>0.016616</td>\n",
              "      <td>-0.004901</td>\n",
              "      <td>0.543935</td>\n",
              "      <td>-0.453858</td>\n",
              "      <td>-0.279760</td>\n",
              "      <td>0.143509</td>\n",
              "      <td>0.315373</td>\n",
              "      <td>0.429683</td>\n",
              "      <td>0.487425</td>\n",
              "      <td>0.453411</td>\n",
              "      <td>1.000000</td>\n",
              "      <td>0.195691</td>\n",
              "      <td>-0.330143</td>\n",
              "      <td>0.183127</td>\n",
              "      <td>0.498347</td>\n",
              "      <td>0.388031</td>\n",
              "      <td>-0.497361</td>\n",
              "      <td>0.298374</td>\n",
              "      <td>0.010849</td>\n",
              "      <td>-0.099030</td>\n",
              "      <td>0.042511</td>\n",
              "      <td>0.306390</td>\n",
              "      <td>-0.001460</td>\n",
              "    </tr>\n",
              "    <tr>\n",
              "      <th>MntGoldProds</th>\n",
              "      <td>0.060912</td>\n",
              "      <td>0.046162</td>\n",
              "      <td>0.326309</td>\n",
              "      <td>-0.299284</td>\n",
              "      <td>-0.026000</td>\n",
              "      <td>0.067695</td>\n",
              "      <td>0.238214</td>\n",
              "      <td>0.327015</td>\n",
              "      <td>0.259489</td>\n",
              "      <td>0.380370</td>\n",
              "      <td>0.195691</td>\n",
              "      <td>1.000000</td>\n",
              "      <td>-0.060180</td>\n",
              "      <td>0.204712</td>\n",
              "      <td>0.375596</td>\n",
              "      <td>0.231438</td>\n",
              "      <td>-0.259659</td>\n",
              "      <td>0.172933</td>\n",
              "      <td>0.086528</td>\n",
              "      <td>0.078869</td>\n",
              "      <td>0.010801</td>\n",
              "      <td>0.219898</td>\n",
              "      <td>0.042217</td>\n",
              "    </tr>\n",
              "    <tr>\n",
              "      <th>NumDealsPurchases</th>\n",
              "      <td>0.154752</td>\n",
              "      <td>0.238602</td>\n",
              "      <td>-0.407219</td>\n",
              "      <td>0.427882</td>\n",
              "      <td>0.625771</td>\n",
              "      <td>-0.063003</td>\n",
              "      <td>-0.202217</td>\n",
              "      <td>-0.341511</td>\n",
              "      <td>-0.401319</td>\n",
              "      <td>-0.335123</td>\n",
              "      <td>-0.330143</td>\n",
              "      <td>-0.060180</td>\n",
              "      <td>1.000000</td>\n",
              "      <td>0.117912</td>\n",
              "      <td>-0.312765</td>\n",
              "      <td>-0.089137</td>\n",
              "      <td>0.502184</td>\n",
              "      <td>-0.317401</td>\n",
              "      <td>-0.070649</td>\n",
              "      <td>-0.037592</td>\n",
              "      <td>-0.051363</td>\n",
              "      <td>-0.402275</td>\n",
              "      <td>-0.000272</td>\n",
              "    </tr>\n",
              "    <tr>\n",
              "      <th>NumWebPurchases</th>\n",
              "      <td>0.218162</td>\n",
              "      <td>0.172634</td>\n",
              "      <td>0.417701</td>\n",
              "      <td>-0.398161</td>\n",
              "      <td>0.199349</td>\n",
              "      <td>0.152869</td>\n",
              "      <td>0.452766</td>\n",
              "      <td>0.181555</td>\n",
              "      <td>0.202409</td>\n",
              "      <td>0.152766</td>\n",
              "      <td>0.183127</td>\n",
              "      <td>0.204712</td>\n",
              "      <td>0.117912</td>\n",
              "      <td>1.000000</td>\n",
              "      <td>0.326492</td>\n",
              "      <td>0.388782</td>\n",
              "      <td>-0.019423</td>\n",
              "      <td>0.122237</td>\n",
              "      <td>0.066972</td>\n",
              "      <td>-0.040500</td>\n",
              "      <td>0.185517</td>\n",
              "      <td>0.148640</td>\n",
              "      <td>-0.015106</td>\n",
              "    </tr>\n",
              "    <tr>\n",
              "      <th>NumCatalogPurchases</th>\n",
              "      <td>0.155778</td>\n",
              "      <td>-0.070874</td>\n",
              "      <td>0.709487</td>\n",
              "      <td>-0.618197</td>\n",
              "      <td>-0.168486</td>\n",
              "      <td>0.201409</td>\n",
              "      <td>0.559024</td>\n",
              "      <td>0.488424</td>\n",
              "      <td>0.567541</td>\n",
              "      <td>0.573261</td>\n",
              "      <td>0.498347</td>\n",
              "      <td>0.375596</td>\n",
              "      <td>-0.312765</td>\n",
              "      <td>0.326492</td>\n",
              "      <td>1.000000</td>\n",
              "      <td>0.489005</td>\n",
              "      <td>-0.603888</td>\n",
              "      <td>0.428558</td>\n",
              "      <td>0.129057</td>\n",
              "      <td>0.037546</td>\n",
              "      <td>0.176208</td>\n",
              "      <td>0.388824</td>\n",
              "      <td>0.004023</td>\n",
              "    </tr>\n",
              "    <tr>\n",
              "      <th>NumStorePurchases</th>\n",
              "      <td>0.066440</td>\n",
              "      <td>0.027617</td>\n",
              "      <td>0.625294</td>\n",
              "      <td>-0.542791</td>\n",
              "      <td>-0.101834</td>\n",
              "      <td>0.131458</td>\n",
              "      <td>0.530361</td>\n",
              "      <td>0.340215</td>\n",
              "      <td>0.462215</td>\n",
              "      <td>0.328586</td>\n",
              "      <td>0.388031</td>\n",
              "      <td>0.231438</td>\n",
              "      <td>-0.089137</td>\n",
              "      <td>0.388782</td>\n",
              "      <td>0.489005</td>\n",
              "      <td>1.000000</td>\n",
              "      <td>-0.464883</td>\n",
              "      <td>0.277292</td>\n",
              "      <td>0.170344</td>\n",
              "      <td>-0.144400</td>\n",
              "      <td>0.226085</td>\n",
              "      <td>0.374494</td>\n",
              "      <td>-0.012870</td>\n",
              "    </tr>\n",
              "    <tr>\n",
              "      <th>NumWebVisitsMonth</th>\n",
              "      <td>0.039221</td>\n",
              "      <td>0.337193</td>\n",
              "      <td>-0.758301</td>\n",
              "      <td>0.578516</td>\n",
              "      <td>0.371154</td>\n",
              "      <td>-0.097965</td>\n",
              "      <td>-0.445822</td>\n",
              "      <td>-0.502871</td>\n",
              "      <td>-0.697756</td>\n",
              "      <td>-0.553143</td>\n",
              "      <td>-0.497361</td>\n",
              "      <td>-0.259659</td>\n",
              "      <td>0.502184</td>\n",
              "      <td>-0.019423</td>\n",
              "      <td>-0.603888</td>\n",
              "      <td>-0.464883</td>\n",
              "      <td>1.000000</td>\n",
              "      <td>-0.395026</td>\n",
              "      <td>-0.035195</td>\n",
              "      <td>0.109700</td>\n",
              "      <td>-0.099457</td>\n",
              "      <td>-0.513149</td>\n",
              "      <td>0.075523</td>\n",
              "    </tr>\n",
              "    <tr>\n",
              "      <th>AcceptedCmp1</th>\n",
              "      <td>-0.042917</td>\n",
              "      <td>-0.211469</td>\n",
              "      <td>0.499956</td>\n",
              "      <td>-0.334064</td>\n",
              "      <td>-0.189198</td>\n",
              "      <td>0.079397</td>\n",
              "      <td>0.405330</td>\n",
              "      <td>0.219687</td>\n",
              "      <td>0.313771</td>\n",
              "      <td>0.311801</td>\n",
              "      <td>0.298374</td>\n",
              "      <td>0.172933</td>\n",
              "      <td>-0.317401</td>\n",
              "      <td>0.122237</td>\n",
              "      <td>0.428558</td>\n",
              "      <td>0.277292</td>\n",
              "      <td>-0.395026</td>\n",
              "      <td>1.000000</td>\n",
              "      <td>0.215566</td>\n",
              "      <td>-0.004475</td>\n",
              "      <td>0.349860</td>\n",
              "      <td>0.497591</td>\n",
              "      <td>-0.053174</td>\n",
              "    </tr>\n",
              "    <tr>\n",
              "      <th>AcceptedCmp2</th>\n",
              "      <td>0.043019</td>\n",
              "      <td>-0.100226</td>\n",
              "      <td>0.148939</td>\n",
              "      <td>-0.177700</td>\n",
              "      <td>0.022428</td>\n",
              "      <td>0.097043</td>\n",
              "      <td>0.236746</td>\n",
              "      <td>-0.037988</td>\n",
              "      <td>-0.007685</td>\n",
              "      <td>-0.036612</td>\n",
              "      <td>0.010849</td>\n",
              "      <td>0.086528</td>\n",
              "      <td>-0.070649</td>\n",
              "      <td>0.066972</td>\n",
              "      <td>0.129057</td>\n",
              "      <td>0.170344</td>\n",
              "      <td>-0.035195</td>\n",
              "      <td>0.215566</td>\n",
              "      <td>1.000000</td>\n",
              "      <td>0.011253</td>\n",
              "      <td>0.333666</td>\n",
              "      <td>0.242052</td>\n",
              "      <td>-0.024102</td>\n",
              "    </tr>\n",
              "    <tr>\n",
              "      <th>AcceptedCmp3</th>\n",
              "      <td>-0.099405</td>\n",
              "      <td>-0.122766</td>\n",
              "      <td>-0.159292</td>\n",
              "      <td>0.097110</td>\n",
              "      <td>0.005994</td>\n",
              "      <td>0.034007</td>\n",
              "      <td>-0.082340</td>\n",
              "      <td>-0.044024</td>\n",
              "      <td>-0.111649</td>\n",
              "      <td>-0.090728</td>\n",
              "      <td>-0.099030</td>\n",
              "      <td>0.078869</td>\n",
              "      <td>-0.037592</td>\n",
              "      <td>-0.040500</td>\n",
              "      <td>0.037546</td>\n",
              "      <td>-0.144400</td>\n",
              "      <td>0.109700</td>\n",
              "      <td>-0.004475</td>\n",
              "      <td>0.011253</td>\n",
              "      <td>1.000000</td>\n",
              "      <td>-0.262323</td>\n",
              "      <td>-0.064603</td>\n",
              "      <td>0.098471</td>\n",
              "    </tr>\n",
              "    <tr>\n",
              "      <th>AcceptedCmp4</th>\n",
              "      <td>0.064985</td>\n",
              "      <td>-0.016833</td>\n",
              "      <td>0.306348</td>\n",
              "      <td>-0.225352</td>\n",
              "      <td>0.047138</td>\n",
              "      <td>0.164125</td>\n",
              "      <td>0.367889</td>\n",
              "      <td>-0.024277</td>\n",
              "      <td>0.063898</td>\n",
              "      <td>-0.030246</td>\n",
              "      <td>0.042511</td>\n",
              "      <td>0.010801</td>\n",
              "      <td>-0.051363</td>\n",
              "      <td>0.185517</td>\n",
              "      <td>0.176208</td>\n",
              "      <td>0.226085</td>\n",
              "      <td>-0.099457</td>\n",
              "      <td>0.349860</td>\n",
              "      <td>0.333666</td>\n",
              "      <td>-0.262323</td>\n",
              "      <td>1.000000</td>\n",
              "      <td>0.399153</td>\n",
              "      <td>-0.045605</td>\n",
              "    </tr>\n",
              "    <tr>\n",
              "      <th>AcceptedCmp5</th>\n",
              "      <td>-0.103385</td>\n",
              "      <td>-0.140267</td>\n",
              "      <td>0.609860</td>\n",
              "      <td>-0.375729</td>\n",
              "      <td>-0.258265</td>\n",
              "      <td>0.129756</td>\n",
              "      <td>0.552491</td>\n",
              "      <td>0.264928</td>\n",
              "      <td>0.403142</td>\n",
              "      <td>0.221478</td>\n",
              "      <td>0.306390</td>\n",
              "      <td>0.219898</td>\n",
              "      <td>-0.402275</td>\n",
              "      <td>0.148640</td>\n",
              "      <td>0.388824</td>\n",
              "      <td>0.374494</td>\n",
              "      <td>-0.513149</td>\n",
              "      <td>0.497591</td>\n",
              "      <td>0.242052</td>\n",
              "      <td>-0.064603</td>\n",
              "      <td>0.399153</td>\n",
              "      <td>1.000000</td>\n",
              "      <td>0.012850</td>\n",
              "    </tr>\n",
              "    <tr>\n",
              "      <th>Complain</th>\n",
              "      <td>-0.122640</td>\n",
              "      <td>0.096196</td>\n",
              "      <td>-0.027329</td>\n",
              "      <td>0.128762</td>\n",
              "      <td>-0.059305</td>\n",
              "      <td>0.022139</td>\n",
              "      <td>-0.058020</td>\n",
              "      <td>-0.054640</td>\n",
              "      <td>-0.016551</td>\n",
              "      <td>-0.053776</td>\n",
              "      <td>-0.001460</td>\n",
              "      <td>0.042217</td>\n",
              "      <td>-0.000272</td>\n",
              "      <td>-0.015106</td>\n",
              "      <td>0.004023</td>\n",
              "      <td>-0.012870</td>\n",
              "      <td>0.075523</td>\n",
              "      <td>-0.053174</td>\n",
              "      <td>-0.024102</td>\n",
              "      <td>0.098471</td>\n",
              "      <td>-0.045605</td>\n",
              "      <td>0.012850</td>\n",
              "      <td>1.000000</td>\n",
              "    </tr>\n",
              "  </tbody>\n",
              "</table>\n",
              "</div>"
            ],
            "text/plain": [
              "                          Age  Years_Costumer  ...  AcceptedCmp5  Complain\n",
              "Age                  1.000000        0.087405  ...     -0.103385 -0.122640\n",
              "Years_Costumer       0.087405        1.000000  ...     -0.140267  0.096196\n",
              "Income               0.088756       -0.122755  ...      0.609860 -0.027329\n",
              "Kidhome             -0.156008        0.048590  ...     -0.375729  0.128762\n",
              "Teenhome             0.325148        0.138321  ...     -0.258265 -0.059305\n",
              "Recency              0.037790        0.264680  ...      0.129756  0.022139\n",
              "MntWines             0.114519       -0.010164  ...      0.552491 -0.058020\n",
              "MntFruits           -0.066356       -0.063962  ...      0.264928 -0.054640\n",
              "MntMeatProducts     -0.034759       -0.122756  ...      0.403142 -0.016551\n",
              "MntFishProducts      0.056341       -0.034827  ...      0.221478 -0.053776\n",
              "MntSweetProducts     0.016616       -0.004901  ...      0.306390 -0.001460\n",
              "MntGoldProds         0.060912        0.046162  ...      0.219898  0.042217\n",
              "NumDealsPurchases    0.154752        0.238602  ...     -0.402275 -0.000272\n",
              "NumWebPurchases      0.218162        0.172634  ...      0.148640 -0.015106\n",
              "NumCatalogPurchases  0.155778       -0.070874  ...      0.388824  0.004023\n",
              "NumStorePurchases    0.066440        0.027617  ...      0.374494 -0.012870\n",
              "NumWebVisitsMonth    0.039221        0.337193  ...     -0.513149  0.075523\n",
              "AcceptedCmp1        -0.042917       -0.211469  ...      0.497591 -0.053174\n",
              "AcceptedCmp2         0.043019       -0.100226  ...      0.242052 -0.024102\n",
              "AcceptedCmp3        -0.099405       -0.122766  ...     -0.064603  0.098471\n",
              "AcceptedCmp4         0.064985       -0.016833  ...      0.399153 -0.045605\n",
              "AcceptedCmp5        -0.103385       -0.140267  ...      1.000000  0.012850\n",
              "Complain            -0.122640        0.096196  ...      0.012850  1.000000\n",
              "\n",
              "[23 rows x 23 columns]"
            ]
          },
          "metadata": {
            "tags": []
          },
          "execution_count": 47
        }
      ]
    },
    {
      "cell_type": "code",
      "metadata": {
        "colab": {
          "base_uri": "https://localhost:8080/"
        },
        "id": "Z2Qschc9kz3Z",
        "outputId": "43864f7d-3272-4a68-f773-cb609c814c7f"
      },
      "source": [
        "# Verifying null values\n",
        "df1.isnull().sum()"
      ],
      "execution_count": null,
      "outputs": [
        {
          "output_type": "execute_result",
          "data": {
            "text/plain": [
              "Age                     0\n",
              "Years_Costumer          0\n",
              "Education               0\n",
              "Marital_Status          0\n",
              "Income                 24\n",
              "Kidhome                 0\n",
              "Teenhome                0\n",
              "Recency                 0\n",
              "MntWines                0\n",
              "MntFruits               0\n",
              "MntMeatProducts         0\n",
              "MntFishProducts         0\n",
              "MntSweetProducts        0\n",
              "MntGoldProds            0\n",
              "NumDealsPurchases       0\n",
              "NumWebPurchases         0\n",
              "NumCatalogPurchases     0\n",
              "NumStorePurchases       0\n",
              "NumWebVisitsMonth       0\n",
              "AcceptedCmp1            0\n",
              "AcceptedCmp2            0\n",
              "AcceptedCmp3            0\n",
              "AcceptedCmp4            0\n",
              "AcceptedCmp5            0\n",
              "Complain                0\n",
              "Response                0\n",
              "dtype: int64"
            ]
          },
          "metadata": {
            "tags": []
          },
          "execution_count": 48
        }
      ]
    },
    {
      "cell_type": "code",
      "metadata": {
        "colab": {
          "base_uri": "https://localhost:8080/"
        },
        "id": "mjA17v6glJwS",
        "outputId": "74ea8c16-b2b8-4078-cf56-33cad9e19d57"
      },
      "source": [
        "# Dropping null values\n",
        "df1.dropna(inplace=True)"
      ],
      "execution_count": null,
      "outputs": [
        {
          "output_type": "stream",
          "text": [
            "/usr/local/lib/python3.6/dist-packages/ipykernel_launcher.py:2: SettingWithCopyWarning: \n",
            "A value is trying to be set on a copy of a slice from a DataFrame\n",
            "\n",
            "See the caveats in the documentation: https://pandas.pydata.org/pandas-docs/stable/user_guide/indexing.html#returning-a-view-versus-a-copy\n",
            "  \n"
          ],
          "name": "stderr"
        }
      ]
    },
    {
      "cell_type": "code",
      "metadata": {
        "colab": {
          "base_uri": "https://localhost:8080/"
        },
        "id": "wPShIFMbunu0",
        "outputId": "7ebea9fa-8fbe-4002-f726-0f237e086692"
      },
      "source": [
        "# Checking data distribution\n",
        "num_true = len(df1.loc[df['Response'] == 1])\n",
        "num_false = len(df1.loc[df['Response'] == 0])\n",
        "print(\"True cases : {0} ({1:2.2f}%)\".format(num_true, (num_true/ (num_true + num_false)) * 100))\n",
        "print(\"False cases: {0} ({1:2.2f}%)\".format(num_false, (num_false/ (num_true + num_false)) * 100))"
      ],
      "execution_count": null,
      "outputs": [
        {
          "output_type": "stream",
          "text": [
            "True cases : 333 (15.03%)\n",
            "False cases: 1883 (84.97%)\n"
          ],
          "name": "stdout"
        }
      ]
    },
    {
      "cell_type": "markdown",
      "metadata": {
        "id": "uKDLH-_Junu2"
      },
      "source": [
        "## Spliting\n",
        "\n",
        "70% for training and 30% for testing"
      ]
    },
    {
      "cell_type": "code",
      "metadata": {
        "colab": {
          "base_uri": "https://localhost:8080/",
          "height": 35
        },
        "id": "g5G5HRR1unvS",
        "outputId": "e9983f8e-14ca-4df5-9bb6-b1351a243a27"
      },
      "source": [
        "import sklearn as sk\n",
        "sk.__version__"
      ],
      "execution_count": null,
      "outputs": [
        {
          "output_type": "execute_result",
          "data": {
            "application/vnd.google.colaboratory.intrinsic+json": {
              "type": "string"
            },
            "text/plain": [
              "'0.22.2.post1'"
            ]
          },
          "metadata": {
            "tags": []
          },
          "execution_count": 1
        }
      ]
    },
    {
      "cell_type": "code",
      "metadata": {
        "id": "eGcoZSKaunvW"
      },
      "source": [
        "from sklearn.model_selection import train_test_split"
      ],
      "execution_count": null,
      "outputs": []
    },
    {
      "cell_type": "code",
      "metadata": {
        "id": "buZZjBgsunvX"
      },
      "source": [
        "# Feature Selection\n",
        "atributs = [\"Age\",\"Years_Costumer\",\"Income\",\"Kidhome\",\"Teenhome\",\"Recency\",\"NumDealsPurchases\",\"NumWebPurchases\",\"NumCatalogPurchases\",\"NumStorePurchases\",\"NumWebVisitsMonth\",\"Complain\"]"
      ],
      "execution_count": null,
      "outputs": []
    },
    {
      "cell_type": "code",
      "metadata": {
        "id": "6OeLFBl1unvX"
      },
      "source": [
        "# Predict variable\n",
        "atrib_prev = [\"Response\"]"
      ],
      "execution_count": null,
      "outputs": []
    },
    {
      "cell_type": "code",
      "metadata": {
        "id": "I7r5FGZQunvY",
        "colab": {
          "base_uri": "https://localhost:8080/",
          "height": 195
        },
        "outputId": "f7dbf244-2f5f-4a59-9182-5a941cfe583e"
      },
      "source": [
        "# Creating objects\n",
        "X = df1[atributs].values\n",
        "Y = df1[atrib_prev].values"
      ],
      "execution_count": null,
      "outputs": [
        {
          "output_type": "error",
          "ename": "NameError",
          "evalue": "ignored",
          "traceback": [
            "\u001b[0;31m---------------------------------------------------------------------------\u001b[0m",
            "\u001b[0;31mNameError\u001b[0m                                 Traceback (most recent call last)",
            "\u001b[0;32m<ipython-input-5-aafde862737e>\u001b[0m in \u001b[0;36m<module>\u001b[0;34m()\u001b[0m\n\u001b[1;32m      1\u001b[0m \u001b[0;31m# Creating objects\u001b[0m\u001b[0;34m\u001b[0m\u001b[0;34m\u001b[0m\u001b[0;34m\u001b[0m\u001b[0m\n\u001b[0;32m----> 2\u001b[0;31m \u001b[0mX\u001b[0m \u001b[0;34m=\u001b[0m \u001b[0mdf1\u001b[0m\u001b[0;34m[\u001b[0m\u001b[0matributs\u001b[0m\u001b[0;34m]\u001b[0m\u001b[0;34m.\u001b[0m\u001b[0mvalues\u001b[0m\u001b[0;34m\u001b[0m\u001b[0;34m\u001b[0m\u001b[0m\n\u001b[0m\u001b[1;32m      3\u001b[0m \u001b[0mY\u001b[0m \u001b[0;34m=\u001b[0m \u001b[0mdf1\u001b[0m\u001b[0;34m[\u001b[0m\u001b[0matrib_prev\u001b[0m\u001b[0;34m]\u001b[0m\u001b[0;34m.\u001b[0m\u001b[0mvalues\u001b[0m\u001b[0;34m\u001b[0m\u001b[0;34m\u001b[0m\u001b[0m\n",
            "\u001b[0;31mNameError\u001b[0m: name 'df1' is not defined"
          ]
        }
      ]
    },
    {
      "cell_type": "code",
      "metadata": {
        "id": "YoWT43eZunvb"
      },
      "source": [
        "X"
      ],
      "execution_count": null,
      "outputs": []
    },
    {
      "cell_type": "code",
      "metadata": {
        "id": "Sk6KbPQxunvd"
      },
      "source": [
        "Y"
      ],
      "execution_count": null,
      "outputs": []
    },
    {
      "cell_type": "code",
      "metadata": {
        "id": "_uq4MBSdunvf"
      },
      "source": [
        "# Defining split size\n",
        "split_test_size = 0.30"
      ],
      "execution_count": null,
      "outputs": []
    },
    {
      "cell_type": "code",
      "metadata": {
        "id": "kBSxJ1ihunvi"
      },
      "source": [
        "# Creating training and testing data\n",
        "X_train, X_test, Y_train, Y_test = train_test_split(X, Y, test_size = split_test_size, random_state = 42)"
      ],
      "execution_count": null,
      "outputs": []
    },
    {
      "cell_type": "code",
      "metadata": {
        "id": "fyroo3jOunvj"
      },
      "source": [
        "# And the results are:\n",
        "print(\"{0:0.2f}% training data\".format((len(X_train)/len(df1.index)) * 100))\n",
        "print(\"{0:0.2f}% testing data\".format((len(X_test)/len(df1.index)) * 100))"
      ],
      "execution_count": null,
      "outputs": []
    },
    {
      "cell_type": "code",
      "metadata": {
        "id": "qJ5fsr3Bunvk"
      },
      "source": [
        "X_train"
      ],
      "execution_count": null,
      "outputs": []
    },
    {
      "cell_type": "markdown",
      "metadata": {
        "id": "KQ8iBfBNunvm"
      },
      "source": [
        "## Checking Split"
      ]
    },
    {
      "cell_type": "code",
      "metadata": {
        "colab": {
          "base_uri": "https://localhost:8080/"
        },
        "id": "tl-sIlYiunvp",
        "outputId": "1172611d-9799-405b-c91f-9f9b72e6c231"
      },
      "source": [
        "print(\"Original True  : {0} ({1:0.2f}%)\".format(len(df1.loc[df1['Response'] == 1]),\n",
        "                                               (len(df1.loc[df1['Response'] ==1])/len(df1.index) * 100)))\n",
        "\n",
        "print(\"Original False : {0} ({1:0.2f}%)\".format(len(df1.loc[df['Response'] == 0]),\n",
        "                                               (len(df1.loc[df['Response'] == 0])/len(df1.index) * 100)))\n",
        "print(\"\")\n",
        "print(\"Training True  : {0} ({1:0.2f}%)\".format(len(Y_train[Y_train[:] == 1]),\n",
        "                                               (len(Y_train[Y_train[:] == 1])/len(Y_train) * 100)))\n",
        "\n",
        "print(\"Training False : {0} ({1:0.2f}%)\".format(len(Y_train[Y_train[:] == 0]),\n",
        "                                               (len(Y_train[Y_train[:] == 0])/len(Y_train) * 100)))\n",
        "print(\"\")\n",
        "print(\"Test True  : {0} ({1:0.2f}%)\".format(len(Y_test[Y_test[:] == 1]),\n",
        "                                               (len(Y_test[Y_test[:] == 1])/len(Y_test) * 100)))\n",
        "\n",
        "print(\"Test False : {0} ({1:0.2f}%)\".format(len(Y_test[Y_test[:] == 0]),\n",
        "                                               (len(Y_test[Y_test[:] == 0])/len(Y_test) * 100)))"
      ],
      "execution_count": null,
      "outputs": [
        {
          "output_type": "stream",
          "text": [
            "Original True  : 333 (15.03%)\n",
            "Original False : 1883 (84.97%)\n",
            "\n",
            "Training True  : 237 (15.28%)\n",
            "Training False : 1314 (84.72%)\n",
            "\n",
            "Test True  : 96 (14.44%)\n",
            "Test False : 569 (85.56%)\n"
          ],
          "name": "stdout"
        }
      ]
    },
    {
      "cell_type": "markdown",
      "metadata": {
        "id": "iDBTCOhaunvr"
      },
      "source": [
        "## Checking hidden missing values\n",
        "\n"
      ]
    },
    {
      "cell_type": "code",
      "metadata": {
        "colab": {
          "base_uri": "https://localhost:8080/"
        },
        "id": "SK2UFthVunvs",
        "outputId": "100c5900-db18-4f0f-85cc-af5b0b192c4c"
      },
      "source": [
        "# Checking missing values\n",
        "df1.isnull().values.any()"
      ],
      "execution_count": null,
      "outputs": [
        {
          "output_type": "execute_result",
          "data": {
            "text/plain": [
              "False"
            ]
          },
          "metadata": {
            "tags": []
          },
          "execution_count": 71
        }
      ]
    },
    {
      "cell_type": "code",
      "metadata": {
        "colab": {
          "base_uri": "https://localhost:8080/",
          "height": 215
        },
        "id": "obMcU8XCunvw",
        "outputId": "e51d925f-9ad3-4799-8dff-000743ea8952"
      },
      "source": [
        "df1.head(5)"
      ],
      "execution_count": null,
      "outputs": [
        {
          "output_type": "execute_result",
          "data": {
            "text/html": [
              "<div>\n",
              "<style scoped>\n",
              "    .dataframe tbody tr th:only-of-type {\n",
              "        vertical-align: middle;\n",
              "    }\n",
              "\n",
              "    .dataframe tbody tr th {\n",
              "        vertical-align: top;\n",
              "    }\n",
              "\n",
              "    .dataframe thead th {\n",
              "        text-align: right;\n",
              "    }\n",
              "</style>\n",
              "<table border=\"1\" class=\"dataframe\">\n",
              "  <thead>\n",
              "    <tr style=\"text-align: right;\">\n",
              "      <th></th>\n",
              "      <th>Age</th>\n",
              "      <th>Years_Costumer</th>\n",
              "      <th>Education</th>\n",
              "      <th>Marital_Status</th>\n",
              "      <th>Income</th>\n",
              "      <th>Kidhome</th>\n",
              "      <th>Teenhome</th>\n",
              "      <th>Recency</th>\n",
              "      <th>MntWines</th>\n",
              "      <th>MntFruits</th>\n",
              "      <th>MntMeatProducts</th>\n",
              "      <th>MntFishProducts</th>\n",
              "      <th>MntSweetProducts</th>\n",
              "      <th>MntGoldProds</th>\n",
              "      <th>NumDealsPurchases</th>\n",
              "      <th>NumWebPurchases</th>\n",
              "      <th>NumCatalogPurchases</th>\n",
              "      <th>NumStorePurchases</th>\n",
              "      <th>NumWebVisitsMonth</th>\n",
              "      <th>AcceptedCmp1</th>\n",
              "      <th>AcceptedCmp2</th>\n",
              "      <th>AcceptedCmp3</th>\n",
              "      <th>AcceptedCmp4</th>\n",
              "      <th>AcceptedCmp5</th>\n",
              "      <th>Complain</th>\n",
              "      <th>Response</th>\n",
              "    </tr>\n",
              "  </thead>\n",
              "  <tbody>\n",
              "    <tr>\n",
              "      <th>0</th>\n",
              "      <td>64</td>\n",
              "      <td>8.443836</td>\n",
              "      <td>Graduation</td>\n",
              "      <td>Single</td>\n",
              "      <td>58138.0</td>\n",
              "      <td>0</td>\n",
              "      <td>0</td>\n",
              "      <td>58</td>\n",
              "      <td>635</td>\n",
              "      <td>88</td>\n",
              "      <td>546</td>\n",
              "      <td>172</td>\n",
              "      <td>88</td>\n",
              "      <td>88</td>\n",
              "      <td>3</td>\n",
              "      <td>8</td>\n",
              "      <td>10</td>\n",
              "      <td>4</td>\n",
              "      <td>7</td>\n",
              "      <td>0</td>\n",
              "      <td>0</td>\n",
              "      <td>0</td>\n",
              "      <td>0</td>\n",
              "      <td>0</td>\n",
              "      <td>0</td>\n",
              "      <td>1</td>\n",
              "    </tr>\n",
              "    <tr>\n",
              "      <th>1</th>\n",
              "      <td>67</td>\n",
              "      <td>6.936986</td>\n",
              "      <td>Graduation</td>\n",
              "      <td>Single</td>\n",
              "      <td>46344.0</td>\n",
              "      <td>1</td>\n",
              "      <td>1</td>\n",
              "      <td>38</td>\n",
              "      <td>11</td>\n",
              "      <td>1</td>\n",
              "      <td>6</td>\n",
              "      <td>2</td>\n",
              "      <td>1</td>\n",
              "      <td>6</td>\n",
              "      <td>2</td>\n",
              "      <td>1</td>\n",
              "      <td>1</td>\n",
              "      <td>2</td>\n",
              "      <td>5</td>\n",
              "      <td>0</td>\n",
              "      <td>0</td>\n",
              "      <td>0</td>\n",
              "      <td>0</td>\n",
              "      <td>0</td>\n",
              "      <td>0</td>\n",
              "      <td>0</td>\n",
              "    </tr>\n",
              "    <tr>\n",
              "      <th>2</th>\n",
              "      <td>56</td>\n",
              "      <td>7.482192</td>\n",
              "      <td>Graduation</td>\n",
              "      <td>Together</td>\n",
              "      <td>71613.0</td>\n",
              "      <td>0</td>\n",
              "      <td>0</td>\n",
              "      <td>26</td>\n",
              "      <td>426</td>\n",
              "      <td>49</td>\n",
              "      <td>127</td>\n",
              "      <td>111</td>\n",
              "      <td>21</td>\n",
              "      <td>42</td>\n",
              "      <td>1</td>\n",
              "      <td>8</td>\n",
              "      <td>2</td>\n",
              "      <td>10</td>\n",
              "      <td>4</td>\n",
              "      <td>0</td>\n",
              "      <td>0</td>\n",
              "      <td>0</td>\n",
              "      <td>0</td>\n",
              "      <td>0</td>\n",
              "      <td>0</td>\n",
              "      <td>0</td>\n",
              "    </tr>\n",
              "    <tr>\n",
              "      <th>3</th>\n",
              "      <td>37</td>\n",
              "      <td>7.008219</td>\n",
              "      <td>Graduation</td>\n",
              "      <td>Together</td>\n",
              "      <td>26646.0</td>\n",
              "      <td>1</td>\n",
              "      <td>0</td>\n",
              "      <td>26</td>\n",
              "      <td>11</td>\n",
              "      <td>4</td>\n",
              "      <td>20</td>\n",
              "      <td>10</td>\n",
              "      <td>3</td>\n",
              "      <td>5</td>\n",
              "      <td>2</td>\n",
              "      <td>2</td>\n",
              "      <td>0</td>\n",
              "      <td>4</td>\n",
              "      <td>6</td>\n",
              "      <td>0</td>\n",
              "      <td>0</td>\n",
              "      <td>0</td>\n",
              "      <td>0</td>\n",
              "      <td>0</td>\n",
              "      <td>0</td>\n",
              "      <td>0</td>\n",
              "    </tr>\n",
              "    <tr>\n",
              "      <th>4</th>\n",
              "      <td>40</td>\n",
              "      <td>7.068493</td>\n",
              "      <td>PhD</td>\n",
              "      <td>Married</td>\n",
              "      <td>58293.0</td>\n",
              "      <td>1</td>\n",
              "      <td>0</td>\n",
              "      <td>94</td>\n",
              "      <td>173</td>\n",
              "      <td>43</td>\n",
              "      <td>118</td>\n",
              "      <td>46</td>\n",
              "      <td>27</td>\n",
              "      <td>15</td>\n",
              "      <td>5</td>\n",
              "      <td>5</td>\n",
              "      <td>3</td>\n",
              "      <td>6</td>\n",
              "      <td>5</td>\n",
              "      <td>0</td>\n",
              "      <td>0</td>\n",
              "      <td>0</td>\n",
              "      <td>0</td>\n",
              "      <td>0</td>\n",
              "      <td>0</td>\n",
              "      <td>0</td>\n",
              "    </tr>\n",
              "  </tbody>\n",
              "</table>\n",
              "</div>"
            ],
            "text/plain": [
              "   Age  Years_Costumer   Education  ... AcceptedCmp5  Complain  Response\n",
              "0   64        8.443836  Graduation  ...            0         0         1\n",
              "1   67        6.936986  Graduation  ...            0         0         0\n",
              "2   56        7.482192  Graduation  ...            0         0         0\n",
              "3   37        7.008219  Graduation  ...            0         0         0\n",
              "4   40        7.068493         PhD  ...            0         0         0\n",
              "\n",
              "[5 rows x 26 columns]"
            ]
          },
          "metadata": {
            "tags": []
          },
          "execution_count": 72
        }
      ]
    },
    {
      "cell_type": "markdown",
      "metadata": {
        "id": "gv00AHavunwi"
      },
      "source": [
        "## Building and training the model"
      ]
    },
    {
      "cell_type": "code",
      "metadata": {
        "id": "J2rkEgnrunwm"
      },
      "source": [
        "# Naive Bayes Classifier\n",
        "from sklearn.naive_bayes import GaussianNB"
      ],
      "execution_count": null,
      "outputs": []
    },
    {
      "cell_type": "code",
      "metadata": {
        "id": "ybIKeFOIunwn"
      },
      "source": [
        "# Creating the model\n",
        "model_v1 = GaussianNB()"
      ],
      "execution_count": null,
      "outputs": []
    },
    {
      "cell_type": "code",
      "metadata": {
        "colab": {
          "base_uri": "https://localhost:8080/"
        },
        "id": "-wdI9lBPunwo",
        "outputId": "501d4da1-7b77-4e0d-fdf5-4084a52be98c"
      },
      "source": [
        "# Training\n",
        "model_v1.fit(X_train, Y_train.ravel())"
      ],
      "execution_count": null,
      "outputs": [
        {
          "output_type": "execute_result",
          "data": {
            "text/plain": [
              "GaussianNB(priors=None, var_smoothing=1e-09)"
            ]
          },
          "metadata": {
            "tags": []
          },
          "execution_count": 75
        }
      ]
    },
    {
      "cell_type": "markdown",
      "metadata": {
        "id": "rhKVnH-2unwp"
      },
      "source": [
        "## Checking Accuracy of training data"
      ]
    },
    {
      "cell_type": "code",
      "metadata": {
        "id": "PTF2aOCIunws"
      },
      "source": [
        "from sklearn import metrics"
      ],
      "execution_count": null,
      "outputs": []
    },
    {
      "cell_type": "code",
      "metadata": {
        "id": "hOwpaCTZunwt"
      },
      "source": [
        "nb_predict_train = model_v1.predict(X_train)"
      ],
      "execution_count": null,
      "outputs": []
    },
    {
      "cell_type": "code",
      "metadata": {
        "id": "1g1PQafcunwu",
        "colab": {
          "base_uri": "https://localhost:8080/"
        },
        "outputId": "27469137-a29d-48a1-f77f-2d91b6245e09"
      },
      "source": [
        "print(\"Accuracy: {0:.4f}\".format(metrics.accuracy_score(Y_train, nb_predict_train)))\n",
        "print()"
      ],
      "execution_count": null,
      "outputs": [
        {
          "output_type": "stream",
          "text": [
            "Accuracy: 0.8414\n",
            "\n"
          ],
          "name": "stdout"
        }
      ]
    },
    {
      "cell_type": "markdown",
      "metadata": {
        "id": "rKt4IF0Runwv"
      },
      "source": [
        "## Checking Accuracy of testing data"
      ]
    },
    {
      "cell_type": "code",
      "metadata": {
        "id": "cjX8Fx9Aunww"
      },
      "source": [
        "nb_predict_test = model_v1.predict(X_test)"
      ],
      "execution_count": null,
      "outputs": []
    },
    {
      "cell_type": "code",
      "metadata": {
        "id": "B2nEqlpLunwz",
        "colab": {
          "base_uri": "https://localhost:8080/"
        },
        "outputId": "d137e343-4472-4f28-ad75-3339a2dafbc5"
      },
      "source": [
        "print(\"Accuracy: {0:.4f}\".format(metrics.accuracy_score(Y_test, nb_predict_test)))\n",
        "print()"
      ],
      "execution_count": null,
      "outputs": [
        {
          "output_type": "stream",
          "text": [
            "Accuracy: 0.8241\n",
            "\n"
          ],
          "name": "stdout"
        }
      ]
    },
    {
      "cell_type": "markdown",
      "metadata": {
        "id": "BAZSPnXsunw0"
      },
      "source": [
        "## Metrics"
      ]
    },
    {
      "cell_type": "code",
      "metadata": {
        "id": "TH2FrG83unw2",
        "colab": {
          "base_uri": "https://localhost:8080/"
        },
        "outputId": "eb294603-8499-4fb9-fb57-096dfb21126e"
      },
      "source": [
        "# Creating a Confusion Matrix\n",
        "print(\"Confusion Matrix\")\n",
        "\n",
        "print(\"{0}\".format(metrics.confusion_matrix(Y_test, nb_predict_test, labels = [1, 0])))\n",
        "print(\"\")\n",
        "\n",
        "print(\"Classification Report\")\n",
        "print(metrics.classification_report(Y_test, nb_predict_test, labels = [1, 0]))"
      ],
      "execution_count": null,
      "outputs": [
        {
          "output_type": "stream",
          "text": [
            "Confusion Matrix\n",
            "[[ 21  75]\n",
            " [ 42 527]]\n",
            "\n",
            "Classification Report\n",
            "              precision    recall  f1-score   support\n",
            "\n",
            "           1       0.33      0.22      0.26        96\n",
            "           0       0.88      0.93      0.90       569\n",
            "\n",
            "    accuracy                           0.82       665\n",
            "   macro avg       0.60      0.57      0.58       665\n",
            "weighted avg       0.80      0.82      0.81       665\n",
            "\n"
          ],
          "name": "stdout"
        }
      ]
    },
    {
      "cell_type": "markdown",
      "metadata": {
        "id": "tdOof4EVunw7"
      },
      "source": [
        "# Optimizing with RandomForest Classifier"
      ]
    },
    {
      "cell_type": "code",
      "metadata": {
        "id": "SJDNc9ozunw8"
      },
      "source": [
        "from sklearn.ensemble import RandomForestClassifier"
      ],
      "execution_count": null,
      "outputs": []
    },
    {
      "cell_type": "code",
      "metadata": {
        "id": "Ea9cGZwbunxk",
        "colab": {
          "base_uri": "https://localhost:8080/"
        },
        "outputId": "043db1a4-7492-42d0-ae47-e8393cafc73a"
      },
      "source": [
        "model_v2 = RandomForestClassifier(random_state = 42)\n",
        "model_v2.fit(X_train, Y_train.ravel())"
      ],
      "execution_count": null,
      "outputs": [
        {
          "output_type": "execute_result",
          "data": {
            "text/plain": [
              "RandomForestClassifier(bootstrap=True, ccp_alpha=0.0, class_weight=None,\n",
              "                       criterion='gini', max_depth=None, max_features='auto',\n",
              "                       max_leaf_nodes=None, max_samples=None,\n",
              "                       min_impurity_decrease=0.0, min_impurity_split=None,\n",
              "                       min_samples_leaf=1, min_samples_split=2,\n",
              "                       min_weight_fraction_leaf=0.0, n_estimators=100,\n",
              "                       n_jobs=None, oob_score=False, random_state=42, verbose=0,\n",
              "                       warm_start=False)"
            ]
          },
          "metadata": {
            "tags": []
          },
          "execution_count": 84
        }
      ]
    },
    {
      "cell_type": "code",
      "metadata": {
        "id": "w4H_rrxfunxn",
        "colab": {
          "base_uri": "https://localhost:8080/"
        },
        "outputId": "f6ed59b9-1151-4479-f122-d5a66f699294"
      },
      "source": [
        "# Checking training data\n",
        "rf_predict_train = model_v2.predict(X_train)\n",
        "print(\"Accuracy: {0:.4f}\".format(metrics.accuracy_score(Y_train, rf_predict_train)))"
      ],
      "execution_count": null,
      "outputs": [
        {
          "output_type": "stream",
          "text": [
            "Accuracy: 0.9929\n"
          ],
          "name": "stdout"
        }
      ]
    },
    {
      "cell_type": "code",
      "metadata": {
        "id": "cs_aZ8xsunxo",
        "colab": {
          "base_uri": "https://localhost:8080/"
        },
        "outputId": "3f9111f6-af8f-43f8-c8f0-06c0a502b00e"
      },
      "source": [
        "# Checking testing data\n",
        "rf_predict_test = model_v2.predict(X_test)\n",
        "print(\"Accuracy: {0:.4f}\".format(metrics.accuracy_score(Y_test, rf_predict_test)))\n",
        "print()"
      ],
      "execution_count": null,
      "outputs": [
        {
          "output_type": "stream",
          "text": [
            "Accuracy: 0.8602\n",
            "\n"
          ],
          "name": "stdout"
        }
      ]
    },
    {
      "cell_type": "code",
      "metadata": {
        "id": "C5LpDn14unxq",
        "colab": {
          "base_uri": "https://localhost:8080/"
        },
        "outputId": "0d049635-f6b2-4033-8c7d-6ace9edde3dd"
      },
      "source": [
        "print(\"Confusion Matrix\")\n",
        "\n",
        "print(\"{0}\".format(metrics.confusion_matrix(Y_test, rf_predict_test, labels = [1, 0])))\n",
        "print(\"\")\n",
        "\n",
        "print(\"Classification Report\")\n",
        "print(metrics.classification_report(Y_test, rf_predict_test, labels = [1, 0]))"
      ],
      "execution_count": null,
      "outputs": [
        {
          "output_type": "stream",
          "text": [
            "Confusion Matrix\n",
            "[[ 26  70]\n",
            " [ 23 546]]\n",
            "\n",
            "Classification Report\n",
            "              precision    recall  f1-score   support\n",
            "\n",
            "           1       0.53      0.27      0.36        96\n",
            "           0       0.89      0.96      0.92       569\n",
            "\n",
            "    accuracy                           0.86       665\n",
            "   macro avg       0.71      0.62      0.64       665\n",
            "weighted avg       0.84      0.86      0.84       665\n",
            "\n"
          ],
          "name": "stdout"
        }
      ]
    },
    {
      "cell_type": "markdown",
      "metadata": {
        "id": "2__zxzyXunxt"
      },
      "source": [
        "## Logistic Regression"
      ]
    },
    {
      "cell_type": "code",
      "metadata": {
        "id": "wJU_xwmvunxu"
      },
      "source": [
        "from sklearn.linear_model import LogisticRegression"
      ],
      "execution_count": null,
      "outputs": []
    },
    {
      "cell_type": "code",
      "metadata": {
        "id": "icL-aGzounxv"
      },
      "source": [
        "# Version 3 of model using Logistic Regression\n",
        "model_v3 = LogisticRegression(C = 0.7, random_state = 42, max_iter = 1000)\n",
        "model_v3.fit(X_train, Y_train.ravel())\n",
        "lr_predict_test = model_v3.predict(X_test)"
      ],
      "execution_count": null,
      "outputs": []
    },
    {
      "cell_type": "code",
      "metadata": {
        "id": "BiodtR2zunxw",
        "colab": {
          "base_uri": "https://localhost:8080/"
        },
        "outputId": "754ea4be-9ffd-447e-a400-89675877d5de"
      },
      "source": [
        "print(\"Accuracy: {0:.4f}\".format(metrics.accuracy_score(Y_test, lr_predict_test)))\n",
        "print()\n",
        "print(\"Classification Report\")\n",
        "print(metrics.classification_report(Y_test, lr_predict_test, labels = [1, 0]))"
      ],
      "execution_count": null,
      "outputs": [
        {
          "output_type": "stream",
          "text": [
            "Accuracy: 0.8466\n",
            "\n",
            "Classification Report\n",
            "              precision    recall  f1-score   support\n",
            "\n",
            "           1       0.38      0.10      0.16        96\n",
            "           0       0.87      0.97      0.92       569\n",
            "\n",
            "    accuracy                           0.85       665\n",
            "   macro avg       0.63      0.54      0.54       665\n",
            "weighted avg       0.80      0.85      0.81       665\n",
            "\n"
          ],
          "name": "stdout"
        }
      ]
    },
    {
      "cell_type": "code",
      "metadata": {
        "id": "C0lMb-j7unxx"
      },
      "source": [
        "### Summary\n",
        "## Accuracy using test data\n",
        "\n",
        "# Naive Bayes         = 0.8241\n",
        "# Random Forest       = 0.8602\n",
        "# Logistic Regression = 0.8466"
      ],
      "execution_count": null,
      "outputs": []
    },
    {
      "cell_type": "markdown",
      "metadata": {
        "id": "-kyOJfb7unx0"
      },
      "source": [
        "## Making predictions with the best model"
      ]
    },
    {
      "cell_type": "code",
      "metadata": {
        "id": "L4TzUe2Dunx1"
      },
      "source": [
        "import pickle"
      ],
      "execution_count": null,
      "outputs": []
    },
    {
      "cell_type": "code",
      "metadata": {
        "id": "QbjaGVscunx2"
      },
      "source": [
        "# Saving model for later\n",
        "filename = 'model_trained_v2.sav'\n",
        "pickle.dump(model_v2, open(filename, 'wb'))"
      ],
      "execution_count": null,
      "outputs": []
    },
    {
      "cell_type": "code",
      "metadata": {
        "id": "SbWUbbs0unx2",
        "colab": {
          "base_uri": "https://localhost:8080/"
        },
        "outputId": "4366c9ce-0fda-4e51-ada4-4c2885380556"
      },
      "source": [
        "X_test"
      ],
      "execution_count": null,
      "outputs": [
        {
          "output_type": "execute_result",
          "data": {
            "text/plain": [
              "array([[5.90000000e+01, 6.77260274e+00, 5.25970000e+04, ...,\n",
              "        8.00000000e+00, 5.00000000e+00, 0.00000000e+00],\n",
              "       [3.50000000e+01, 6.99178082e+00, 3.43200000e+04, ...,\n",
              "        2.00000000e+00, 8.00000000e+00, 0.00000000e+00],\n",
              "       [4.90000000e+01, 7.64657534e+00, 3.85780000e+04, ...,\n",
              "        3.00000000e+00, 8.00000000e+00, 0.00000000e+00],\n",
              "       ...,\n",
              "       [3.40000000e+01, 7.34794521e+00, 9.51690000e+04, ...,\n",
              "        4.00000000e+00, 1.00000000e+00, 0.00000000e+00],\n",
              "       [4.90000000e+01, 7.01643836e+00, 2.67590000e+04, ...,\n",
              "        3.00000000e+00, 6.00000000e+00, 0.00000000e+00],\n",
              "       [5.00000000e+01, 7.46301370e+00, 7.18190000e+04, ...,\n",
              "        5.00000000e+00, 6.00000000e+00, 0.00000000e+00]])"
            ]
          },
          "metadata": {
            "tags": []
          },
          "execution_count": 94
        }
      ]
    },
    {
      "cell_type": "code",
      "metadata": {
        "colab": {
          "base_uri": "https://localhost:8080/"
        },
        "id": "XXuRe0taunx6",
        "outputId": "4dc75e05-413f-4a4c-8695-c66940d037dd"
      },
      "source": [
        "# Loading model and making prediction with new data\n",
        "# (X_test, Y_test can be a new set of data properly prepared)\n",
        "loaded_model = pickle.load(open(filename, 'rb'))\n",
        "result1 = loaded_model.predict(X_test[15].reshape(1, -1))\n",
        "result2 = loaded_model.predict(X_test[25].reshape(1, -1))\n",
        "print(result1)\n",
        "print(result2)"
      ],
      "execution_count": null,
      "outputs": [
        {
          "output_type": "stream",
          "text": [
            "[1]\n",
            "[0]\n"
          ],
          "name": "stdout"
        }
      ]
    },
    {
      "cell_type": "markdown",
      "metadata": {
        "id": "1ku6U7ixunx8"
      },
      "source": [
        "# The End"
      ]
    }
  ]
}